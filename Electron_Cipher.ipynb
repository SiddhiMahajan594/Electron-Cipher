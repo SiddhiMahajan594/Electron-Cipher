{
  "nbformat": 4,
  "nbformat_minor": 0,
  "metadata": {
    "colab": {
      "provenance": []
    },
    "kernelspec": {
      "name": "python3",
      "display_name": "Python 3"
    },
    "language_info": {
      "name": "python"
    },
    "widgets": {
      "application/vnd.jupyter.widget-state+json": {
        "efb5954bc80e407f96c06e3caf6b778f": {
          "model_module": "@jupyter-widgets/controls",
          "model_name": "TextModel",
          "model_module_version": "1.5.0",
          "state": {
            "_dom_classes": [],
            "_model_module": "@jupyter-widgets/controls",
            "_model_module_version": "1.5.0",
            "_model_name": "TextModel",
            "_view_count": null,
            "_view_module": "@jupyter-widgets/controls",
            "_view_module_version": "1.5.0",
            "_view_name": "TextView",
            "continuous_update": true,
            "description": "Plaintext:",
            "description_tooltip": null,
            "disabled": false,
            "layout": "IPY_MODEL_9d8e1f7f8fb8406b94bd4859c8c6f492",
            "placeholder": "Enter text to encrypt",
            "style": "IPY_MODEL_e61d1a8d505e48cbb2484eabbb5bfbbe",
            "value": "Cyber Security"
          }
        },
        "9d8e1f7f8fb8406b94bd4859c8c6f492": {
          "model_module": "@jupyter-widgets/base",
          "model_name": "LayoutModel",
          "model_module_version": "1.2.0",
          "state": {
            "_model_module": "@jupyter-widgets/base",
            "_model_module_version": "1.2.0",
            "_model_name": "LayoutModel",
            "_view_count": null,
            "_view_module": "@jupyter-widgets/base",
            "_view_module_version": "1.2.0",
            "_view_name": "LayoutView",
            "align_content": null,
            "align_items": null,
            "align_self": null,
            "border": null,
            "bottom": null,
            "display": null,
            "flex": null,
            "flex_flow": null,
            "grid_area": null,
            "grid_auto_columns": null,
            "grid_auto_flow": null,
            "grid_auto_rows": null,
            "grid_column": null,
            "grid_gap": null,
            "grid_row": null,
            "grid_template_areas": null,
            "grid_template_columns": null,
            "grid_template_rows": null,
            "height": null,
            "justify_content": null,
            "justify_items": null,
            "left": null,
            "margin": null,
            "max_height": null,
            "max_width": null,
            "min_height": null,
            "min_width": null,
            "object_fit": null,
            "object_position": null,
            "order": null,
            "overflow": null,
            "overflow_x": null,
            "overflow_y": null,
            "padding": null,
            "right": null,
            "top": null,
            "visibility": null,
            "width": "400px"
          }
        },
        "e61d1a8d505e48cbb2484eabbb5bfbbe": {
          "model_module": "@jupyter-widgets/controls",
          "model_name": "DescriptionStyleModel",
          "model_module_version": "1.5.0",
          "state": {
            "_model_module": "@jupyter-widgets/controls",
            "_model_module_version": "1.5.0",
            "_model_name": "DescriptionStyleModel",
            "_view_count": null,
            "_view_module": "@jupyter-widgets/base",
            "_view_module_version": "1.2.0",
            "_view_name": "StyleView",
            "description_width": ""
          }
        },
        "18a50b202e13432a872f24a9b4e7078a": {
          "model_module": "@jupyter-widgets/controls",
          "model_name": "PasswordModel",
          "model_module_version": "1.5.0",
          "state": {
            "_dom_classes": [],
            "_model_module": "@jupyter-widgets/controls",
            "_model_module_version": "1.5.0",
            "_model_name": "PasswordModel",
            "_view_count": null,
            "_view_module": "@jupyter-widgets/controls",
            "_view_module_version": "1.5.0",
            "_view_name": "PasswordView",
            "continuous_update": true,
            "description": "Password:",
            "description_tooltip": null,
            "disabled": false,
            "layout": "IPY_MODEL_dab0ad1a46bc40df97fc9847948e9912",
            "placeholder": "​",
            "style": "IPY_MODEL_40c13257ece846c38d9494bb08df451a",
            "value": "hello"
          }
        },
        "dab0ad1a46bc40df97fc9847948e9912": {
          "model_module": "@jupyter-widgets/base",
          "model_name": "LayoutModel",
          "model_module_version": "1.2.0",
          "state": {
            "_model_module": "@jupyter-widgets/base",
            "_model_module_version": "1.2.0",
            "_model_name": "LayoutModel",
            "_view_count": null,
            "_view_module": "@jupyter-widgets/base",
            "_view_module_version": "1.2.0",
            "_view_name": "LayoutView",
            "align_content": null,
            "align_items": null,
            "align_self": null,
            "border": null,
            "bottom": null,
            "display": null,
            "flex": null,
            "flex_flow": null,
            "grid_area": null,
            "grid_auto_columns": null,
            "grid_auto_flow": null,
            "grid_auto_rows": null,
            "grid_column": null,
            "grid_gap": null,
            "grid_row": null,
            "grid_template_areas": null,
            "grid_template_columns": null,
            "grid_template_rows": null,
            "height": null,
            "justify_content": null,
            "justify_items": null,
            "left": null,
            "margin": null,
            "max_height": null,
            "max_width": null,
            "min_height": null,
            "min_width": null,
            "object_fit": null,
            "object_position": null,
            "order": null,
            "overflow": null,
            "overflow_x": null,
            "overflow_y": null,
            "padding": null,
            "right": null,
            "top": null,
            "visibility": null,
            "width": "400px"
          }
        },
        "40c13257ece846c38d9494bb08df451a": {
          "model_module": "@jupyter-widgets/controls",
          "model_name": "DescriptionStyleModel",
          "model_module_version": "1.5.0",
          "state": {
            "_model_module": "@jupyter-widgets/controls",
            "_model_module_version": "1.5.0",
            "_model_name": "DescriptionStyleModel",
            "_view_count": null,
            "_view_module": "@jupyter-widgets/base",
            "_view_module_version": "1.2.0",
            "_view_name": "StyleView",
            "description_width": ""
          }
        },
        "3904e827f9b941f4a385d99fc66077cf": {
          "model_module": "@jupyter-widgets/controls",
          "model_name": "ButtonModel",
          "model_module_version": "1.5.0",
          "state": {
            "_dom_classes": [],
            "_model_module": "@jupyter-widgets/controls",
            "_model_module_version": "1.5.0",
            "_model_name": "ButtonModel",
            "_view_count": null,
            "_view_module": "@jupyter-widgets/controls",
            "_view_module_version": "1.5.0",
            "_view_name": "ButtonView",
            "button_style": "",
            "description": "Encrypt & Decrypt",
            "disabled": false,
            "icon": "",
            "layout": "IPY_MODEL_75cf4fa180ba421599d7522285f7eed7",
            "style": "IPY_MODEL_b482d157fcae4bd685f699e07f8e0755",
            "tooltip": ""
          }
        },
        "75cf4fa180ba421599d7522285f7eed7": {
          "model_module": "@jupyter-widgets/base",
          "model_name": "LayoutModel",
          "model_module_version": "1.2.0",
          "state": {
            "_model_module": "@jupyter-widgets/base",
            "_model_module_version": "1.2.0",
            "_model_name": "LayoutModel",
            "_view_count": null,
            "_view_module": "@jupyter-widgets/base",
            "_view_module_version": "1.2.0",
            "_view_name": "LayoutView",
            "align_content": null,
            "align_items": null,
            "align_self": null,
            "border": null,
            "bottom": null,
            "display": null,
            "flex": null,
            "flex_flow": null,
            "grid_area": null,
            "grid_auto_columns": null,
            "grid_auto_flow": null,
            "grid_auto_rows": null,
            "grid_column": null,
            "grid_gap": null,
            "grid_row": null,
            "grid_template_areas": null,
            "grid_template_columns": null,
            "grid_template_rows": null,
            "height": null,
            "justify_content": null,
            "justify_items": null,
            "left": null,
            "margin": null,
            "max_height": null,
            "max_width": null,
            "min_height": null,
            "min_width": null,
            "object_fit": null,
            "object_position": null,
            "order": null,
            "overflow": null,
            "overflow_x": null,
            "overflow_y": null,
            "padding": null,
            "right": null,
            "top": null,
            "visibility": null,
            "width": null
          }
        },
        "b482d157fcae4bd685f699e07f8e0755": {
          "model_module": "@jupyter-widgets/controls",
          "model_name": "ButtonStyleModel",
          "model_module_version": "1.5.0",
          "state": {
            "_model_module": "@jupyter-widgets/controls",
            "_model_module_version": "1.5.0",
            "_model_name": "ButtonStyleModel",
            "_view_count": null,
            "_view_module": "@jupyter-widgets/base",
            "_view_module_version": "1.2.0",
            "_view_name": "StyleView",
            "button_color": null,
            "font_weight": ""
          }
        },
        "b779243e7deb47c09690df3ab17a1c37": {
          "model_module": "@jupyter-widgets/output",
          "model_name": "OutputModel",
          "model_module_version": "1.0.0",
          "state": {
            "_dom_classes": [],
            "_model_module": "@jupyter-widgets/output",
            "_model_module_version": "1.0.0",
            "_model_name": "OutputModel",
            "_view_count": null,
            "_view_module": "@jupyter-widgets/output",
            "_view_module_version": "1.0.0",
            "_view_name": "OutputView",
            "layout": "IPY_MODEL_938a803674af4d1c8aff9c590b511bd8",
            "msg_id": "",
            "outputs": [
              {
                "output_type": "stream",
                "name": "stdout",
                "text": [
                  "\n",
                  "--- Encryption ---\n",
                  "Plaintext bits:  0100001101111001011000100110010101110010001000000101001101100101011000110111010101110010011010010111010001111001\n",
                  "Feistel Mixed:   0000000011111001000111101101111001100100100100000001001011111101000000001100101000010010110011110000110111011110\n",
                  "Permuted bits:   000000001010011110101111111101001010100010000001001010111011101000000000100100101010101111011000000010111001001111\n"
                ]
              },
              {
                "output_type": "stream",
                "name": "stdout",
                "text": [
                  "\n",
                  "=== Dynamic S-Box Table ===\n",
                  "S S-box:     [0, 1]\n",
                  "S Inv S-box: [0, 1]\n",
                  "P S-box:     [5, 2, 0, 4, 3, 1]\n",
                  "P Inv S-box: [2, 5, 1, 4, 3, 0]\n",
                  "D S-box:     [6, 4, 1, 7, 3, 2, 0, 5, 9, 8]\n",
                  "D Inv S-box: [6, 2, 5, 4, 1, 7, 0, 3, 9, 8]\n",
                  "F S-box:     [4, 2, 1, 6, 8, 5, 10, 9, 3, 0, 11, 13, 12, 7]\n",
                  "F Inv S-box: [9, 2, 1, 8, 0, 5, 3, 13, 4, 7, 6, 10, 12, 11]\n",
                  "\n",
                  "Ciphertext (Base64):\n",
                  "N8CzsZaVYby359Fiyh4dxPjkv+3oVYyimhRwaOlCY+sAAABw4igdLje+NhmUz5PFAXgS9w==\n",
                  "\n",
                  "--- Decryption ---\n",
                  "Decrypted permuted bits: 000000001010011110101111111101001010100010000001001010111011101000000000100100101010101111011000000010111001001111000000\n",
                  "Recovered bits:          0100001101111001011000100110010101110010001000000101001101100101011000110111010101110010011010010111010001111001\n",
                  "\n",
                  "Recovered Plaintext:\n",
                  "Cyber Security\n",
                  "\n",
                  "--- Bit Visualizations ---\n"
                ]
              },
              {
                "output_type": "display_data",
                "data": {
                  "text/plain": "<Figure size 2400x200 with 1 Axes>",
                  "image/png": "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\n"
                },
                "metadata": {}
              },
              {
                "output_type": "display_data",
                "data": {
                  "text/plain": "<Figure size 2400x200 with 1 Axes>",
                  "image/png": "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\n"
                },
                "metadata": {}
              },
              {
                "output_type": "display_data",
                "data": {
                  "text/plain": "<Figure size 1400x1500 with 1 Axes>",
                  "image/png": "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\n"
                },
                "metadata": {}
              }
            ]
          }
        },
        "938a803674af4d1c8aff9c590b511bd8": {
          "model_module": "@jupyter-widgets/base",
          "model_name": "LayoutModel",
          "model_module_version": "1.2.0",
          "state": {
            "_model_module": "@jupyter-widgets/base",
            "_model_module_version": "1.2.0",
            "_model_name": "LayoutModel",
            "_view_count": null,
            "_view_module": "@jupyter-widgets/base",
            "_view_module_version": "1.2.0",
            "_view_name": "LayoutView",
            "align_content": null,
            "align_items": null,
            "align_self": null,
            "border": null,
            "bottom": null,
            "display": null,
            "flex": null,
            "flex_flow": null,
            "grid_area": null,
            "grid_auto_columns": null,
            "grid_auto_flow": null,
            "grid_auto_rows": null,
            "grid_column": null,
            "grid_gap": null,
            "grid_row": null,
            "grid_template_areas": null,
            "grid_template_columns": null,
            "grid_template_rows": null,
            "height": null,
            "justify_content": null,
            "justify_items": null,
            "left": null,
            "margin": null,
            "max_height": null,
            "max_width": null,
            "min_height": null,
            "min_width": null,
            "object_fit": null,
            "object_position": null,
            "order": null,
            "overflow": null,
            "overflow_x": null,
            "overflow_y": null,
            "padding": null,
            "right": null,
            "top": null,
            "visibility": null,
            "width": null
          }
        }
      }
    }
  },
  "cells": [
    {
      "cell_type": "code",
      "execution_count": null,
      "metadata": {
        "colab": {
          "base_uri": "https://localhost:8080/"
        },
        "id": "EMWQOf0rB238",
        "outputId": "4adee18b-8da0-4c45-8cd5-82f043771994"
      },
      "outputs": [
        {
          "output_type": "stream",
          "name": "stdout",
          "text": [
            "Collecting pycryptodome\n",
            "  Downloading pycryptodome-3.23.0-cp37-abi3-manylinux_2_17_x86_64.manylinux2014_x86_64.whl.metadata (3.4 kB)\n",
            "Requirement already satisfied: ipywidgets in /usr/local/lib/python3.11/dist-packages (7.7.1)\n",
            "Requirement already satisfied: ipykernel>=4.5.1 in /usr/local/lib/python3.11/dist-packages (from ipywidgets) (6.17.1)\n",
            "Requirement already satisfied: ipython-genutils~=0.2.0 in /usr/local/lib/python3.11/dist-packages (from ipywidgets) (0.2.0)\n",
            "Requirement already satisfied: traitlets>=4.3.1 in /usr/local/lib/python3.11/dist-packages (from ipywidgets) (5.7.1)\n",
            "Requirement already satisfied: widgetsnbextension~=3.6.0 in /usr/local/lib/python3.11/dist-packages (from ipywidgets) (3.6.10)\n",
            "Requirement already satisfied: ipython>=4.0.0 in /usr/local/lib/python3.11/dist-packages (from ipywidgets) (7.34.0)\n",
            "Requirement already satisfied: jupyterlab-widgets>=1.0.0 in /usr/local/lib/python3.11/dist-packages (from ipywidgets) (3.0.15)\n",
            "Requirement already satisfied: debugpy>=1.0 in /usr/local/lib/python3.11/dist-packages (from ipykernel>=4.5.1->ipywidgets) (1.8.0)\n",
            "Requirement already satisfied: jupyter-client>=6.1.12 in /usr/local/lib/python3.11/dist-packages (from ipykernel>=4.5.1->ipywidgets) (6.1.12)\n",
            "Requirement already satisfied: matplotlib-inline>=0.1 in /usr/local/lib/python3.11/dist-packages (from ipykernel>=4.5.1->ipywidgets) (0.1.7)\n",
            "Requirement already satisfied: nest-asyncio in /usr/local/lib/python3.11/dist-packages (from ipykernel>=4.5.1->ipywidgets) (1.6.0)\n",
            "Requirement already satisfied: packaging in /usr/local/lib/python3.11/dist-packages (from ipykernel>=4.5.1->ipywidgets) (24.2)\n",
            "Requirement already satisfied: psutil in /usr/local/lib/python3.11/dist-packages (from ipykernel>=4.5.1->ipywidgets) (5.9.5)\n",
            "Requirement already satisfied: pyzmq>=17 in /usr/local/lib/python3.11/dist-packages (from ipykernel>=4.5.1->ipywidgets) (24.0.1)\n",
            "Requirement already satisfied: tornado>=6.1 in /usr/local/lib/python3.11/dist-packages (from ipykernel>=4.5.1->ipywidgets) (6.4.2)\n",
            "Requirement already satisfied: setuptools>=18.5 in /usr/local/lib/python3.11/dist-packages (from ipython>=4.0.0->ipywidgets) (75.2.0)\n",
            "Collecting jedi>=0.16 (from ipython>=4.0.0->ipywidgets)\n",
            "  Downloading jedi-0.19.2-py2.py3-none-any.whl.metadata (22 kB)\n",
            "Requirement already satisfied: decorator in /usr/local/lib/python3.11/dist-packages (from ipython>=4.0.0->ipywidgets) (4.4.2)\n",
            "Requirement already satisfied: pickleshare in /usr/local/lib/python3.11/dist-packages (from ipython>=4.0.0->ipywidgets) (0.7.5)\n",
            "Requirement already satisfied: prompt-toolkit!=3.0.0,!=3.0.1,<3.1.0,>=2.0.0 in /usr/local/lib/python3.11/dist-packages (from ipython>=4.0.0->ipywidgets) (3.0.51)\n",
            "Requirement already satisfied: pygments in /usr/local/lib/python3.11/dist-packages (from ipython>=4.0.0->ipywidgets) (2.19.1)\n",
            "Requirement already satisfied: backcall in /usr/local/lib/python3.11/dist-packages (from ipython>=4.0.0->ipywidgets) (0.2.0)\n",
            "Requirement already satisfied: pexpect>4.3 in /usr/local/lib/python3.11/dist-packages (from ipython>=4.0.0->ipywidgets) (4.9.0)\n",
            "Requirement already satisfied: notebook>=4.4.1 in /usr/local/lib/python3.11/dist-packages (from widgetsnbextension~=3.6.0->ipywidgets) (6.5.7)\n",
            "Requirement already satisfied: parso<0.9.0,>=0.8.4 in /usr/local/lib/python3.11/dist-packages (from jedi>=0.16->ipython>=4.0.0->ipywidgets) (0.8.4)\n",
            "Requirement already satisfied: jupyter-core>=4.6.0 in /usr/local/lib/python3.11/dist-packages (from jupyter-client>=6.1.12->ipykernel>=4.5.1->ipywidgets) (5.8.1)\n",
            "Requirement already satisfied: python-dateutil>=2.1 in /usr/local/lib/python3.11/dist-packages (from jupyter-client>=6.1.12->ipykernel>=4.5.1->ipywidgets) (2.9.0.post0)\n",
            "Requirement already satisfied: jinja2 in /usr/local/lib/python3.11/dist-packages (from notebook>=4.4.1->widgetsnbextension~=3.6.0->ipywidgets) (3.1.6)\n",
            "Requirement already satisfied: argon2-cffi in /usr/local/lib/python3.11/dist-packages (from notebook>=4.4.1->widgetsnbextension~=3.6.0->ipywidgets) (25.1.0)\n",
            "Requirement already satisfied: nbformat in /usr/local/lib/python3.11/dist-packages (from notebook>=4.4.1->widgetsnbextension~=3.6.0->ipywidgets) (5.10.4)\n",
            "Requirement already satisfied: nbconvert>=5 in /usr/local/lib/python3.11/dist-packages (from notebook>=4.4.1->widgetsnbextension~=3.6.0->ipywidgets) (7.16.6)\n",
            "Requirement already satisfied: Send2Trash>=1.8.0 in /usr/local/lib/python3.11/dist-packages (from notebook>=4.4.1->widgetsnbextension~=3.6.0->ipywidgets) (1.8.3)\n",
            "Requirement already satisfied: terminado>=0.8.3 in /usr/local/lib/python3.11/dist-packages (from notebook>=4.4.1->widgetsnbextension~=3.6.0->ipywidgets) (0.18.1)\n",
            "Requirement already satisfied: prometheus-client in /usr/local/lib/python3.11/dist-packages (from notebook>=4.4.1->widgetsnbextension~=3.6.0->ipywidgets) (0.22.1)\n",
            "Requirement already satisfied: nbclassic>=0.4.7 in /usr/local/lib/python3.11/dist-packages (from notebook>=4.4.1->widgetsnbextension~=3.6.0->ipywidgets) (1.3.1)\n",
            "Requirement already satisfied: ptyprocess>=0.5 in /usr/local/lib/python3.11/dist-packages (from pexpect>4.3->ipython>=4.0.0->ipywidgets) (0.7.0)\n",
            "Requirement already satisfied: wcwidth in /usr/local/lib/python3.11/dist-packages (from prompt-toolkit!=3.0.0,!=3.0.1,<3.1.0,>=2.0.0->ipython>=4.0.0->ipywidgets) (0.2.13)\n",
            "Requirement already satisfied: platformdirs>=2.5 in /usr/local/lib/python3.11/dist-packages (from jupyter-core>=4.6.0->jupyter-client>=6.1.12->ipykernel>=4.5.1->ipywidgets) (4.3.8)\n",
            "Requirement already satisfied: notebook-shim>=0.2.3 in /usr/local/lib/python3.11/dist-packages (from nbclassic>=0.4.7->notebook>=4.4.1->widgetsnbextension~=3.6.0->ipywidgets) (0.2.4)\n",
            "Requirement already satisfied: beautifulsoup4 in /usr/local/lib/python3.11/dist-packages (from nbconvert>=5->notebook>=4.4.1->widgetsnbextension~=3.6.0->ipywidgets) (4.13.4)\n",
            "Requirement already satisfied: bleach!=5.0.0 in /usr/local/lib/python3.11/dist-packages (from bleach[css]!=5.0.0->nbconvert>=5->notebook>=4.4.1->widgetsnbextension~=3.6.0->ipywidgets) (6.2.0)\n",
            "Requirement already satisfied: defusedxml in /usr/local/lib/python3.11/dist-packages (from nbconvert>=5->notebook>=4.4.1->widgetsnbextension~=3.6.0->ipywidgets) (0.7.1)\n",
            "Requirement already satisfied: jupyterlab-pygments in /usr/local/lib/python3.11/dist-packages (from nbconvert>=5->notebook>=4.4.1->widgetsnbextension~=3.6.0->ipywidgets) (0.3.0)\n",
            "Requirement already satisfied: markupsafe>=2.0 in /usr/local/lib/python3.11/dist-packages (from nbconvert>=5->notebook>=4.4.1->widgetsnbextension~=3.6.0->ipywidgets) (3.0.2)\n",
            "Requirement already satisfied: mistune<4,>=2.0.3 in /usr/local/lib/python3.11/dist-packages (from nbconvert>=5->notebook>=4.4.1->widgetsnbextension~=3.6.0->ipywidgets) (3.1.3)\n",
            "Requirement already satisfied: nbclient>=0.5.0 in /usr/local/lib/python3.11/dist-packages (from nbconvert>=5->notebook>=4.4.1->widgetsnbextension~=3.6.0->ipywidgets) (0.10.2)\n",
            "Requirement already satisfied: pandocfilters>=1.4.1 in /usr/local/lib/python3.11/dist-packages (from nbconvert>=5->notebook>=4.4.1->widgetsnbextension~=3.6.0->ipywidgets) (1.5.1)\n",
            "Requirement already satisfied: fastjsonschema>=2.15 in /usr/local/lib/python3.11/dist-packages (from nbformat->notebook>=4.4.1->widgetsnbextension~=3.6.0->ipywidgets) (2.21.1)\n",
            "Requirement already satisfied: jsonschema>=2.6 in /usr/local/lib/python3.11/dist-packages (from nbformat->notebook>=4.4.1->widgetsnbextension~=3.6.0->ipywidgets) (4.24.0)\n",
            "Requirement already satisfied: six>=1.5 in /usr/local/lib/python3.11/dist-packages (from python-dateutil>=2.1->jupyter-client>=6.1.12->ipykernel>=4.5.1->ipywidgets) (1.17.0)\n",
            "Requirement already satisfied: argon2-cffi-bindings in /usr/local/lib/python3.11/dist-packages (from argon2-cffi->notebook>=4.4.1->widgetsnbextension~=3.6.0->ipywidgets) (21.2.0)\n",
            "Requirement already satisfied: webencodings in /usr/local/lib/python3.11/dist-packages (from bleach!=5.0.0->bleach[css]!=5.0.0->nbconvert>=5->notebook>=4.4.1->widgetsnbextension~=3.6.0->ipywidgets) (0.5.1)\n",
            "Requirement already satisfied: tinycss2<1.5,>=1.1.0 in /usr/local/lib/python3.11/dist-packages (from bleach[css]!=5.0.0->nbconvert>=5->notebook>=4.4.1->widgetsnbextension~=3.6.0->ipywidgets) (1.4.0)\n",
            "Requirement already satisfied: attrs>=22.2.0 in /usr/local/lib/python3.11/dist-packages (from jsonschema>=2.6->nbformat->notebook>=4.4.1->widgetsnbextension~=3.6.0->ipywidgets) (25.3.0)\n",
            "Requirement already satisfied: jsonschema-specifications>=2023.03.6 in /usr/local/lib/python3.11/dist-packages (from jsonschema>=2.6->nbformat->notebook>=4.4.1->widgetsnbextension~=3.6.0->ipywidgets) (2025.4.1)\n",
            "Requirement already satisfied: referencing>=0.28.4 in /usr/local/lib/python3.11/dist-packages (from jsonschema>=2.6->nbformat->notebook>=4.4.1->widgetsnbextension~=3.6.0->ipywidgets) (0.36.2)\n",
            "Requirement already satisfied: rpds-py>=0.7.1 in /usr/local/lib/python3.11/dist-packages (from jsonschema>=2.6->nbformat->notebook>=4.4.1->widgetsnbextension~=3.6.0->ipywidgets) (0.25.1)\n",
            "Requirement already satisfied: jupyter-server<3,>=1.8 in /usr/local/lib/python3.11/dist-packages (from notebook-shim>=0.2.3->nbclassic>=0.4.7->notebook>=4.4.1->widgetsnbextension~=3.6.0->ipywidgets) (1.16.0)\n",
            "Requirement already satisfied: cffi>=1.0.1 in /usr/local/lib/python3.11/dist-packages (from argon2-cffi-bindings->argon2-cffi->notebook>=4.4.1->widgetsnbextension~=3.6.0->ipywidgets) (1.17.1)\n",
            "Requirement already satisfied: soupsieve>1.2 in /usr/local/lib/python3.11/dist-packages (from beautifulsoup4->nbconvert>=5->notebook>=4.4.1->widgetsnbextension~=3.6.0->ipywidgets) (2.7)\n",
            "Requirement already satisfied: typing-extensions>=4.0.0 in /usr/local/lib/python3.11/dist-packages (from beautifulsoup4->nbconvert>=5->notebook>=4.4.1->widgetsnbextension~=3.6.0->ipywidgets) (4.14.0)\n",
            "Requirement already satisfied: pycparser in /usr/local/lib/python3.11/dist-packages (from cffi>=1.0.1->argon2-cffi-bindings->argon2-cffi->notebook>=4.4.1->widgetsnbextension~=3.6.0->ipywidgets) (2.22)\n",
            "Requirement already satisfied: anyio>=3.1.0 in /usr/local/lib/python3.11/dist-packages (from jupyter-server<3,>=1.8->notebook-shim>=0.2.3->nbclassic>=0.4.7->notebook>=4.4.1->widgetsnbextension~=3.6.0->ipywidgets) (4.9.0)\n",
            "Requirement already satisfied: websocket-client in /usr/local/lib/python3.11/dist-packages (from jupyter-server<3,>=1.8->notebook-shim>=0.2.3->nbclassic>=0.4.7->notebook>=4.4.1->widgetsnbextension~=3.6.0->ipywidgets) (1.8.0)\n",
            "Requirement already satisfied: idna>=2.8 in /usr/local/lib/python3.11/dist-packages (from anyio>=3.1.0->jupyter-server<3,>=1.8->notebook-shim>=0.2.3->nbclassic>=0.4.7->notebook>=4.4.1->widgetsnbextension~=3.6.0->ipywidgets) (3.10)\n",
            "Requirement already satisfied: sniffio>=1.1 in /usr/local/lib/python3.11/dist-packages (from anyio>=3.1.0->jupyter-server<3,>=1.8->notebook-shim>=0.2.3->nbclassic>=0.4.7->notebook>=4.4.1->widgetsnbextension~=3.6.0->ipywidgets) (1.3.1)\n",
            "Downloading pycryptodome-3.23.0-cp37-abi3-manylinux_2_17_x86_64.manylinux2014_x86_64.whl (2.3 MB)\n",
            "\u001b[2K   \u001b[90m━━━━━━━━━━━━━━━━━━━━━━━━━━━━━━━━━━━━━━━━\u001b[0m \u001b[32m2.3/2.3 MB\u001b[0m \u001b[31m27.7 MB/s\u001b[0m eta \u001b[36m0:00:00\u001b[0m\n",
            "\u001b[?25hDownloading jedi-0.19.2-py2.py3-none-any.whl (1.6 MB)\n",
            "\u001b[2K   \u001b[90m━━━━━━━━━━━━━━━━━━━━━━━━━━━━━━━━━━━━━━━━\u001b[0m \u001b[32m1.6/1.6 MB\u001b[0m \u001b[31m30.7 MB/s\u001b[0m eta \u001b[36m0:00:00\u001b[0m\n",
            "\u001b[?25hInstalling collected packages: pycryptodome, jedi\n",
            "Successfully installed jedi-0.19.2 pycryptodome-3.23.0\n"
          ]
        }
      ],
      "source": [
        "!pip install pycryptodome ipywidgets"
      ]
    },
    {
      "cell_type": "code",
      "source": [
        "from Crypto.Cipher import AES\n",
        "from Crypto.Util.Padding import pad, unpad\n",
        "from Crypto.Random import get_random_bytes\n",
        "from Crypto.Protocol.KDF import PBKDF2\n",
        "from Crypto.Hash import SHA256\n",
        "import base64\n",
        "import matplotlib.pyplot as plt\n",
        "from IPython.display import display\n",
        "import ipywidgets as widgets"
      ],
      "metadata": {
        "id": "i5a02X79B-TU"
      },
      "execution_count": null,
      "outputs": []
    },
    {
      "cell_type": "markdown",
      "source": [
        "Orbital Config"
      ],
      "metadata": {
        "id": "N_NI4iE9C83-"
      }
    },
    {
      "cell_type": "code",
      "source": [
        "orbital_order = [('s', 2), ('p', 6), ('d', 10), ('f', 14)]"
      ],
      "metadata": {
        "id": "H1qLUPWRCEW9"
      },
      "execution_count": null,
      "outputs": []
    },
    {
      "cell_type": "markdown",
      "source": [
        "Key Derivation"
      ],
      "metadata": {
        "id": "b5FLYF00DBeg"
      }
    },
    {
      "cell_type": "code",
      "source": [
        "def derive_key_from_password(password, salt=None):\n",
        "    if salt is None:\n",
        "        salt = get_random_bytes(16)\n",
        "    password_bytes = password.encode() if isinstance(password, str) else password\n",
        "    key = PBKDF2(password_bytes, salt, dkLen=32, count=100000)\n",
        "    return key, salt\n"
      ],
      "metadata": {
        "id": "u2J4eqEbCG_G"
      },
      "execution_count": null,
      "outputs": []
    },
    {
      "cell_type": "markdown",
      "source": [
        "Generate Dynamic S-boxes"
      ],
      "metadata": {
        "id": "NMcSuq3aDFLu"
      }
    },
    {
      "cell_type": "code",
      "source": [
        "def generate_dynamic_sboxes(key):\n",
        "    dynamic_sboxes = {}\n",
        "    orbital_lengths = {'s': 2, 'p': 6, 'd': 10, 'f': 14}\n",
        "    for orbital, length in orbital_lengths.items():\n",
        "        h = SHA256.new(key + orbital.encode()).digest()\n",
        "        indices = list(range(length))\n",
        "        for i in range(len(h)):\n",
        "            j = i % length\n",
        "            k = h[i] % length\n",
        "            indices[j], indices[k] = indices[k], indices[j]\n",
        "        dynamic_sboxes[orbital] = indices\n",
        "    return dynamic_sboxes\n",
        "\n",
        "def generate_inverse_sboxes(sboxes):\n",
        "    inv_sboxes = {}\n",
        "    for orbital, sbox in sboxes.items():\n",
        "        inv = [0] * len(sbox)\n",
        "        for i, val in enumerate(sbox):\n",
        "            inv[val] = i\n",
        "        inv_sboxes[orbital] = inv\n",
        "    return inv_sboxes\n"
      ],
      "metadata": {
        "id": "Op4uba7xCI0D"
      },
      "execution_count": null,
      "outputs": []
    },
    {
      "cell_type": "markdown",
      "source": [
        "Orbital Permutation"
      ],
      "metadata": {
        "id": "eN9Cl86iDHLU"
      }
    },
    {
      "cell_type": "code",
      "source": [
        "def orbital_permute(binary, sboxes):\n",
        "    result = ''\n",
        "    idx = 0\n",
        "    order_idx = 0\n",
        "    mappings = []\n",
        "\n",
        "    while idx < len(binary):\n",
        "        orbital, bits = orbital_order[order_idx % len(orbital_order)]\n",
        "        sbox = sboxes[orbital]\n",
        "        segment = binary[idx:idx + bits]\n",
        "        if len(segment) < bits:\n",
        "            segment = segment.ljust(bits, '0')\n",
        "        permuted = ''.join(segment[sbox[i]] if i < len(segment) else '0' for i in range(bits))\n",
        "        result += permuted\n",
        "        mappings.append((orbital, segment, permuted))\n",
        "        idx += bits\n",
        "        order_idx += 1\n",
        "\n",
        "    return result, mappings\n"
      ],
      "metadata": {
        "id": "UVm94PbaCLEC"
      },
      "execution_count": null,
      "outputs": []
    },
    {
      "cell_type": "markdown",
      "source": [
        "Orbital Unpermutation"
      ],
      "metadata": {
        "id": "A3q3WfvcDJGr"
      }
    },
    {
      "cell_type": "code",
      "source": [
        "def orbital_unpermute(binary, inv_sboxes):\n",
        "    result = ''\n",
        "    idx = 0\n",
        "    order_idx = 0\n",
        "\n",
        "    while idx < len(binary):\n",
        "        orbital, bits = orbital_order[order_idx % len(orbital_order)]\n",
        "        inv_sbox = inv_sboxes[orbital]\n",
        "        segment = binary[idx:idx + bits]\n",
        "        if len(segment) < bits:\n",
        "            segment = segment.ljust(bits, '0')\n",
        "        unpermuted = ['0'] * bits\n",
        "        for i in range(bits):\n",
        "            src_idx = inv_sbox[i]\n",
        "            if src_idx < len(segment):\n",
        "                unpermuted[i] = segment[src_idx]\n",
        "        result += ''.join(unpermuted)\n",
        "        idx += bits\n",
        "        order_idx += 1\n",
        "\n",
        "    return result\n"
      ],
      "metadata": {
        "id": "G5f9AO9OCOZB"
      },
      "execution_count": null,
      "outputs": []
    },
    {
      "cell_type": "markdown",
      "source": [
        "Binary Conversion Helpers"
      ],
      "metadata": {
        "id": "WL_I1akHDLTr"
      }
    },
    {
      "cell_type": "code",
      "source": [
        "def binary_to_bytes(binary):\n",
        "    padding = (8 - len(binary) % 8) % 8\n",
        "    padded = binary + '0' * padding\n",
        "    byte_array = bytearray()\n",
        "    for i in range(0, len(padded), 8):\n",
        "        byte = padded[i:i+8]\n",
        "        byte_array.append(int(byte, 2))\n",
        "    return bytes(byte_array)\n",
        "\n",
        "def bytes_to_binary(byte_data, length=None):\n",
        "    binary = ''.join(format(b, '08b') for b in byte_data)\n",
        "    if length is not None:\n",
        "        binary = binary[:length]\n",
        "    return binary\n"
      ],
      "metadata": {
        "id": "Ut-TM_NDCQWs"
      },
      "execution_count": null,
      "outputs": []
    },
    {
      "cell_type": "markdown",
      "source": [
        "Feistel Function"
      ],
      "metadata": {
        "id": "cA7Aap-ymRq4"
      }
    },
    {
      "cell_type": "code",
      "source": [
        "import random\n",
        "\n",
        "def feistel_round(left, right, subkey, orbital):\n",
        "    # Generate a non-linear function based on orbital\n",
        "    def f_function(r, k):\n",
        "        r_int = int(r, 2)\n",
        "        k_int = int(k, 2)\n",
        "        xor_result = r_int ^ k_int\n",
        "        if orbital == 's':\n",
        "            return format((xor_result ^ (xor_result << 1)) & 0xFF, '08b')\n",
        "        elif orbital == 'p':\n",
        "            return format((xor_result ^ (xor_result >> 1)) & 0xFF, '08b')\n",
        "        elif orbital == 'd':\n",
        "            return format(((xor_result << 2) ^ (xor_result >> 2)) & 0xFF, '08b')\n",
        "        elif orbital == 'f':\n",
        "            return format(((xor_result & 0xAA) | (~xor_result & 0x55)) & 0xFF, '08b')\n",
        "        return format(xor_result, '08b')\n",
        "\n",
        "    f_out = f_function(right, subkey)\n",
        "    new_right = format(int(left, 2) ^ int(f_out, 2), '08b')\n",
        "    return right, new_right\n",
        "\n",
        "def feistel_encrypt_block(block, rounds=4, key=\"10101010\", orbital='s'):\n",
        "    half = len(block) // 2\n",
        "    left, right = block[:half], block[half:]\n",
        "    for i in range(rounds):\n",
        "        subkey = format((int(key, 2) + i) % 256, '08b')\n",
        "        left, right = feistel_round(left, right, subkey, orbital)\n",
        "    return left + right\n",
        "\n",
        "def feistel_decrypt_block(block, rounds=4, key=\"10101010\", orbital='s'):\n",
        "    half = len(block) // 2\n",
        "    left, right = block[:half], block[half:]\n",
        "    round_keys = [format((int(key, 2) + i) % 256, '08b') for i in range(rounds)][::-1]\n",
        "    for subkey in round_keys:\n",
        "        right, left = feistel_round(right, left, subkey, orbital)\n",
        "    return left + right\n",
        "\n",
        "def orbital_feistel_mix(binary, orbital='s', rounds=4):\n",
        "    padded_binary = binary\n",
        "    if len(binary) % 16 != 0:\n",
        "        padded_binary = binary + '0' * (16 - len(binary) % 16)\n",
        "\n",
        "    mixed = ''\n",
        "    for i in range(0, len(padded_binary), 16):\n",
        "        block = padded_binary[i:i+16]\n",
        "        mixed += feistel_encrypt_block(block, rounds=rounds, orbital=orbital)\n",
        "\n",
        "    return mixed\n",
        "\n",
        "def orbital_feistel_unmix(binary, orbital='s', rounds=4):\n",
        "    unmixed = ''\n",
        "    for i in range(0, len(binary), 16):\n",
        "        block = binary[i:i+16]\n",
        "        unmixed += feistel_decrypt_block(block, rounds=rounds, orbital=orbital)\n",
        "\n",
        "    return unmixed\n"
      ],
      "metadata": {
        "id": "8Ds5JRifmQkR"
      },
      "execution_count": null,
      "outputs": []
    },
    {
      "cell_type": "markdown",
      "source": [
        "Encryption & Decryption"
      ],
      "metadata": {
        "id": "LRbj1BffDPEz"
      }
    },
    {
      "cell_type": "code",
      "source": [
        "def encrypt_with_orbitals(plaintext, password):\n",
        "    key, salt = derive_key_from_password(password)\n",
        "    iv = get_random_bytes(16)\n",
        "    plaintext_bytes = plaintext.encode()\n",
        "    binary = ''.join(format(byte, '08b') for byte in plaintext_bytes)\n",
        "    print(f\"Plaintext bits:  {binary}\")\n",
        "\n",
        "    # Apply orbital Feistel mixing\n",
        "    feistel_mixed_binary = orbital_feistel_mix(binary, orbital='p', rounds=4)\n",
        "    print(f\"Feistel Mixed:   {feistel_mixed_binary}\")\n",
        "\n",
        "    # Permute using orbital S-boxes\n",
        "    sboxes = generate_dynamic_sboxes(key)\n",
        "    permuted_binary, mappings = orbital_permute(feistel_mixed_binary, sboxes)\n",
        "    print(f\"Permuted bits:   {permuted_binary}\")\n",
        "\n",
        "    byte_data = binary_to_bytes(permuted_binary)\n",
        "    cipher = AES.new(key, AES.MODE_CBC, iv)\n",
        "    encrypted = cipher.encrypt(pad(byte_data, AES.block_size))\n",
        "    length_bytes = len(binary).to_bytes(4, byteorder='big')\n",
        "    result = salt + iv + length_bytes + encrypted\n",
        "    return base64.b64encode(result).decode(), mappings, binary, permuted_binary\n",
        "\n",
        "def decrypt_with_orbitals(ciphertext, password):\n",
        "    try:\n",
        "        raw = base64.b64decode(ciphertext)\n",
        "        salt = raw[:16]\n",
        "        iv = raw[16:32]\n",
        "        original_length = int.from_bytes(raw[32:36], byteorder='big')\n",
        "        encrypted = raw[36:]\n",
        "    except Exception as e:\n",
        "        print(f\"Error parsing ciphertext: {e}\")\n",
        "        return \"\"\n",
        "    key, _ = derive_key_from_password(password, salt)\n",
        "    try:\n",
        "        cipher = AES.new(key, AES.MODE_CBC, iv)\n",
        "        decrypted_padded = cipher.decrypt(encrypted)\n",
        "        decrypted = unpad(decrypted_padded, AES.block_size)\n",
        "    except Exception as e:\n",
        "        print(f\"Decryption error: {e}\")\n",
        "        return \"\"\n",
        "    decrypted_binary = bytes_to_binary(decrypted)\n",
        "    print(f\"Decrypted permuted bits: {decrypted_binary}\")\n",
        "\n",
        "    sboxes = generate_dynamic_sboxes(key)\n",
        "    inv_sboxes = generate_inverse_sboxes(sboxes)\n",
        "    original_permuted_binary = orbital_unpermute(decrypted_binary, inv_sboxes)\n",
        "\n",
        "    # Reverse Feistel mixing\n",
        "    original_binary = orbital_feistel_unmix(original_permuted_binary, orbital='p', rounds=4)\n",
        "    original_binary = original_binary[:original_length]\n",
        "    print(f\"Recovered bits:          {original_binary}\")\n",
        "\n",
        "    try:\n",
        "        padded_binary = original_binary\n",
        "        if len(padded_binary) % 8 != 0:\n",
        "            padded_binary = padded_binary + '0' * (8 - len(padded_binary) % 8)\n",
        "        bytes_array = bytearray()\n",
        "        for i in range(0, len(padded_binary), 8):\n",
        "            if i + 8 <= len(padded_binary):\n",
        "                byte_val = int(padded_binary[i:i+8], 2)\n",
        "                bytes_array.append(byte_val)\n",
        "        return bytes(bytes_array).decode('utf-8', errors='replace')\n",
        "    except Exception as e:\n",
        "        print(f\"Error decoding plaintext: {e}\")\n",
        "        return \"\"\n"
      ],
      "metadata": {
        "id": "dPNYc4WhmETi"
      },
      "execution_count": null,
      "outputs": []
    },
    {
      "cell_type": "markdown",
      "source": [
        "Visualization Functions"
      ],
      "metadata": {
        "id": "bXvjFGtPDRnZ"
      }
    },
    {
      "cell_type": "code",
      "source": [
        "def visualize_orbital_permutation(mappings):\n",
        "    fig, ax = plt.subplots(figsize=(14, len(mappings)))\n",
        "    ax.set_xlim(0, max(len(before) for _, before, _ in mappings) + 1)\n",
        "    ax.set_ylim(-1, len(mappings) * 2.5)\n",
        "    ax.axis('off')\n",
        "    vertical_gap = 1.4\n",
        "    after_offset = 0.4\n",
        "    for i, (orbital, before, after) in enumerate(mappings):\n",
        "        y_base = len(mappings) * 2.5 - i * 2.5 - 1\n",
        "        ax.text(-0.5, y_base + vertical_gap / 2, f\"{orbital}\", fontsize=10, weight='bold', va='center')\n",
        "        for j in range(len(before)):\n",
        "            bx = j\n",
        "            before_y = y_base + vertical_gap / 2\n",
        "            arrow_start_y = before_y - 0.1\n",
        "            arrow_length = -vertical_gap + 0.2\n",
        "            after_y = arrow_start_y + arrow_length - after_offset\n",
        "            ax.text(bx, before_y, before[j], ha='center', fontsize=9)\n",
        "            ax.arrow(bx, arrow_start_y, 0, arrow_length, head_width=0.1, head_length=0.1, fc='gray', ec='gray')\n",
        "            ax.text(bx, after_y, after[j], ha='center', fontsize=9, color='blue')\n",
        "    plt.title(\"Orbital-Based Bit Permutation (Top: Before, Bottom: After)\", fontsize=14)\n",
        "    plt.tight_layout()\n",
        "    plt.show()\n",
        "\n",
        "def visualize_binary(binary, title='Bit Structure'):\n",
        "    fig, ax = plt.subplots(figsize=(min(0.5 * len(binary), 24), 2))\n",
        "    ax.set_xlim(0, len(binary))\n",
        "    ax.set_ylim(0, 1)\n",
        "    ax.axis('off')\n",
        "    for i, bit in enumerate(binary):\n",
        "        color = 'blue' if bit == '1' else 'lightgray'\n",
        "        ax.scatter(i, 0.5, c=color, s=300, edgecolors='black', zorder=2)\n",
        "        ax.text(i, 0.5, bit, ha='center', va='center', fontsize=8, zorder=3)\n",
        "    plt.title(title, fontsize=16)\n",
        "    plt.tight_layout()\n",
        "    plt.show()\n"
      ],
      "metadata": {
        "id": "kJ5Kn5bYCU1j"
      },
      "execution_count": null,
      "outputs": []
    },
    {
      "cell_type": "markdown",
      "source": [
        "UI + Logic (Widgets)"
      ],
      "metadata": {
        "id": "tjKjohWmDUun"
      }
    },
    {
      "cell_type": "code",
      "source": [
        "text_input = widgets.Text(\n",
        "    value='Cyber Security',\n",
        "    placeholder='Enter text to encrypt',\n",
        "    description='Plaintext:',\n",
        "    layout=widgets.Layout(width='400px')\n",
        ")\n",
        "\n",
        "password_input = widgets.Password(\n",
        "    value='hello',\n",
        "    description='Password:',\n",
        "    layout=widgets.Layout(width='400px')\n",
        ")\n",
        "\n",
        "encrypt_button = widgets.Button(description=\"Encrypt & Decrypt\")\n",
        "output = widgets.Output()\n",
        "\n",
        "def run_encryption(b):\n",
        "    output.clear_output()\n",
        "    with output:\n",
        "        plaintext = text_input.value\n",
        "        password = password_input.value\n",
        "        if not plaintext or not password:\n",
        "            print(\"Please enter both plaintext and password.\")\n",
        "            return\n",
        "\n",
        "        print(\"\\n--- Encryption ---\")\n",
        "        ciphertext, mappings, orig_bits, perm_bits = encrypt_with_orbitals(plaintext, password)\n",
        "\n",
        "        # 🔍 Show dynamic S-box and inverse S-box table\n",
        "        key, _ = derive_key_from_password(password)\n",
        "        sboxes = generate_dynamic_sboxes(key)\n",
        "        inv_sboxes = generate_inverse_sboxes(sboxes)\n",
        "\n",
        "        print(\"\\n=== Dynamic S-Box Table ===\")\n",
        "        for orbital in ['s', 'p', 'd', 'f']:\n",
        "            print(f\"{orbital.upper()} S-box:     {sboxes[orbital]}\")\n",
        "            print(f\"{orbital.upper()} Inv S-box: {inv_sboxes[orbital]}\")\n",
        "\n",
        "        print(\"\\nCiphertext (Base64):\")\n",
        "        print(ciphertext)\n",
        "\n",
        "        print(\"\\n--- Decryption ---\")\n",
        "        recovered = decrypt_with_orbitals(ciphertext, password)\n",
        "        print(\"\\nRecovered Plaintext:\")\n",
        "        print(recovered)\n",
        "\n",
        "        print(\"\\n--- Bit Visualizations ---\")\n",
        "        visualize_binary(orig_bits, 'Original Binary Bits')\n",
        "        visualize_binary(perm_bits, 'Permuted Bits (After Orbital S-box)')\n",
        "        visualize_orbital_permutation(mappings)\n",
        "\n",
        "encrypt_button.on_click(run_encryption)\n",
        "display(text_input, password_input, encrypt_button, output)\n"
      ],
      "metadata": {
        "colab": {
          "base_uri": "https://localhost:8080/",
          "height": 1000,
          "referenced_widgets": [
            "efb5954bc80e407f96c06e3caf6b778f",
            "9d8e1f7f8fb8406b94bd4859c8c6f492",
            "e61d1a8d505e48cbb2484eabbb5bfbbe",
            "18a50b202e13432a872f24a9b4e7078a",
            "dab0ad1a46bc40df97fc9847948e9912",
            "40c13257ece846c38d9494bb08df451a",
            "3904e827f9b941f4a385d99fc66077cf",
            "75cf4fa180ba421599d7522285f7eed7",
            "b482d157fcae4bd685f699e07f8e0755",
            "b779243e7deb47c09690df3ab17a1c37",
            "938a803674af4d1c8aff9c590b511bd8"
          ]
        },
        "id": "XDtTf_KICW52",
        "outputId": "3c18490e-4443-45ce-9bd2-5d9c2e782f76"
      },
      "execution_count": null,
      "outputs": [
        {
          "output_type": "display_data",
          "data": {
            "text/plain": [
              "Text(value='Cyber Security', description='Plaintext:', layout=Layout(width='400px'), placeholder='Enter text t…"
            ],
            "application/vnd.jupyter.widget-view+json": {
              "version_major": 2,
              "version_minor": 0,
              "model_id": "efb5954bc80e407f96c06e3caf6b778f"
            }
          },
          "metadata": {}
        },
        {
          "output_type": "display_data",
          "data": {
            "text/plain": [
              "Password(description='Password:', layout=Layout(width='400px'))"
            ],
            "application/vnd.jupyter.widget-view+json": {
              "version_major": 2,
              "version_minor": 0,
              "model_id": "18a50b202e13432a872f24a9b4e7078a"
            }
          },
          "metadata": {}
        },
        {
          "output_type": "display_data",
          "data": {
            "text/plain": [
              "Button(description='Encrypt & Decrypt', style=ButtonStyle())"
            ],
            "application/vnd.jupyter.widget-view+json": {
              "version_major": 2,
              "version_minor": 0,
              "model_id": "3904e827f9b941f4a385d99fc66077cf"
            }
          },
          "metadata": {}
        },
        {
          "output_type": "display_data",
          "data": {
            "text/plain": [
              "Output()"
            ],
            "application/vnd.jupyter.widget-view+json": {
              "version_major": 2,
              "version_minor": 0,
              "model_id": "b779243e7deb47c09690df3ab17a1c37"
            }
          },
          "metadata": {}
        }
      ]
    }
  ]
}