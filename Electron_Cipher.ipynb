{
  "nbformat": 4,
  "nbformat_minor": 0,
  "metadata": {
    "colab": {
      "provenance": [],
      "mount_file_id": "19EmEYk3PvSRTErx660UR4R0hyD8En-Hf",
      "authorship_tag": "ABX9TyMnGzk1ilKf5XzS0hwY1bV7",
      "include_colab_link": true
    },
    "kernelspec": {
      "name": "python3",
      "display_name": "Python 3"
    },
    "language_info": {
      "name": "python"
    },
    "widgets": {
      "application/vnd.jupyter.widget-state+json": {
        "3f8b362993df495099db558dbe8ae9ef": {
          "model_module": "@jupyter-widgets/controls",
          "model_name": "TextModel",
          "model_module_version": "1.5.0",
          "state": {
            "_dom_classes": [],
            "_model_module": "@jupyter-widgets/controls",
            "_model_module_version": "1.5.0",
            "_model_name": "TextModel",
            "_view_count": null,
            "_view_module": "@jupyter-widgets/controls",
            "_view_module_version": "1.5.0",
            "_view_name": "TextView",
            "continuous_update": true,
            "description": "Plaintext:",
            "description_tooltip": null,
            "disabled": false,
            "layout": "IPY_MODEL_158c49dacc8741b9b66c429e6bda950e",
            "placeholder": "Enter text to encrypt",
            "style": "IPY_MODEL_df2a46a138684b178b95b95b5e6d3304",
            "value": "Cyber Security"
          }
        },
        "158c49dacc8741b9b66c429e6bda950e": {
          "model_module": "@jupyter-widgets/base",
          "model_name": "LayoutModel",
          "model_module_version": "1.2.0",
          "state": {
            "_model_module": "@jupyter-widgets/base",
            "_model_module_version": "1.2.0",
            "_model_name": "LayoutModel",
            "_view_count": null,
            "_view_module": "@jupyter-widgets/base",
            "_view_module_version": "1.2.0",
            "_view_name": "LayoutView",
            "align_content": null,
            "align_items": null,
            "align_self": null,
            "border": null,
            "bottom": null,
            "display": null,
            "flex": null,
            "flex_flow": null,
            "grid_area": null,
            "grid_auto_columns": null,
            "grid_auto_flow": null,
            "grid_auto_rows": null,
            "grid_column": null,
            "grid_gap": null,
            "grid_row": null,
            "grid_template_areas": null,
            "grid_template_columns": null,
            "grid_template_rows": null,
            "height": null,
            "justify_content": null,
            "justify_items": null,
            "left": null,
            "margin": null,
            "max_height": null,
            "max_width": null,
            "min_height": null,
            "min_width": null,
            "object_fit": null,
            "object_position": null,
            "order": null,
            "overflow": null,
            "overflow_x": null,
            "overflow_y": null,
            "padding": null,
            "right": null,
            "top": null,
            "visibility": null,
            "width": "400px"
          }
        },
        "df2a46a138684b178b95b95b5e6d3304": {
          "model_module": "@jupyter-widgets/controls",
          "model_name": "DescriptionStyleModel",
          "model_module_version": "1.5.0",
          "state": {
            "_model_module": "@jupyter-widgets/controls",
            "_model_module_version": "1.5.0",
            "_model_name": "DescriptionStyleModel",
            "_view_count": null,
            "_view_module": "@jupyter-widgets/base",
            "_view_module_version": "1.2.0",
            "_view_name": "StyleView",
            "description_width": ""
          }
        },
        "e0f448b8b8aa4a50a6e34d629dd5fdc0": {
          "model_module": "@jupyter-widgets/controls",
          "model_name": "PasswordModel",
          "model_module_version": "1.5.0",
          "state": {
            "_dom_classes": [],
            "_model_module": "@jupyter-widgets/controls",
            "_model_module_version": "1.5.0",
            "_model_name": "PasswordModel",
            "_view_count": null,
            "_view_module": "@jupyter-widgets/controls",
            "_view_module_version": "1.5.0",
            "_view_name": "PasswordView",
            "continuous_update": true,
            "description": "Password:",
            "description_tooltip": null,
            "disabled": false,
            "layout": "IPY_MODEL_d5d0034b4f4544018a5ec32427b9f8f0",
            "placeholder": "​",
            "style": "IPY_MODEL_92c4bdbd646743eab4b9bcde245af6f3",
            "value": "hello"
          }
        },
        "d5d0034b4f4544018a5ec32427b9f8f0": {
          "model_module": "@jupyter-widgets/base",
          "model_name": "LayoutModel",
          "model_module_version": "1.2.0",
          "state": {
            "_model_module": "@jupyter-widgets/base",
            "_model_module_version": "1.2.0",
            "_model_name": "LayoutModel",
            "_view_count": null,
            "_view_module": "@jupyter-widgets/base",
            "_view_module_version": "1.2.0",
            "_view_name": "LayoutView",
            "align_content": null,
            "align_items": null,
            "align_self": null,
            "border": null,
            "bottom": null,
            "display": null,
            "flex": null,
            "flex_flow": null,
            "grid_area": null,
            "grid_auto_columns": null,
            "grid_auto_flow": null,
            "grid_auto_rows": null,
            "grid_column": null,
            "grid_gap": null,
            "grid_row": null,
            "grid_template_areas": null,
            "grid_template_columns": null,
            "grid_template_rows": null,
            "height": null,
            "justify_content": null,
            "justify_items": null,
            "left": null,
            "margin": null,
            "max_height": null,
            "max_width": null,
            "min_height": null,
            "min_width": null,
            "object_fit": null,
            "object_position": null,
            "order": null,
            "overflow": null,
            "overflow_x": null,
            "overflow_y": null,
            "padding": null,
            "right": null,
            "top": null,
            "visibility": null,
            "width": "400px"
          }
        },
        "92c4bdbd646743eab4b9bcde245af6f3": {
          "model_module": "@jupyter-widgets/controls",
          "model_name": "DescriptionStyleModel",
          "model_module_version": "1.5.0",
          "state": {
            "_model_module": "@jupyter-widgets/controls",
            "_model_module_version": "1.5.0",
            "_model_name": "DescriptionStyleModel",
            "_view_count": null,
            "_view_module": "@jupyter-widgets/base",
            "_view_module_version": "1.2.0",
            "_view_name": "StyleView",
            "description_width": ""
          }
        },
        "e7112c8caff148029d8e54554c763b1d": {
          "model_module": "@jupyter-widgets/controls",
          "model_name": "ButtonModel",
          "model_module_version": "1.5.0",
          "state": {
            "_dom_classes": [],
            "_model_module": "@jupyter-widgets/controls",
            "_model_module_version": "1.5.0",
            "_model_name": "ButtonModel",
            "_view_count": null,
            "_view_module": "@jupyter-widgets/controls",
            "_view_module_version": "1.5.0",
            "_view_name": "ButtonView",
            "button_style": "",
            "description": "Encrypt & Decrypt",
            "disabled": false,
            "icon": "",
            "layout": "IPY_MODEL_8e85dfa2a473422c8f296b569d0e95d1",
            "style": "IPY_MODEL_d0a4bbccf0c34d428c59060e4c70d374",
            "tooltip": ""
          }
        },
        "8e85dfa2a473422c8f296b569d0e95d1": {
          "model_module": "@jupyter-widgets/base",
          "model_name": "LayoutModel",
          "model_module_version": "1.2.0",
          "state": {
            "_model_module": "@jupyter-widgets/base",
            "_model_module_version": "1.2.0",
            "_model_name": "LayoutModel",
            "_view_count": null,
            "_view_module": "@jupyter-widgets/base",
            "_view_module_version": "1.2.0",
            "_view_name": "LayoutView",
            "align_content": null,
            "align_items": null,
            "align_self": null,
            "border": null,
            "bottom": null,
            "display": null,
            "flex": null,
            "flex_flow": null,
            "grid_area": null,
            "grid_auto_columns": null,
            "grid_auto_flow": null,
            "grid_auto_rows": null,
            "grid_column": null,
            "grid_gap": null,
            "grid_row": null,
            "grid_template_areas": null,
            "grid_template_columns": null,
            "grid_template_rows": null,
            "height": null,
            "justify_content": null,
            "justify_items": null,
            "left": null,
            "margin": null,
            "max_height": null,
            "max_width": null,
            "min_height": null,
            "min_width": null,
            "object_fit": null,
            "object_position": null,
            "order": null,
            "overflow": null,
            "overflow_x": null,
            "overflow_y": null,
            "padding": null,
            "right": null,
            "top": null,
            "visibility": null,
            "width": null
          }
        },
        "d0a4bbccf0c34d428c59060e4c70d374": {
          "model_module": "@jupyter-widgets/controls",
          "model_name": "ButtonStyleModel",
          "model_module_version": "1.5.0",
          "state": {
            "_model_module": "@jupyter-widgets/controls",
            "_model_module_version": "1.5.0",
            "_model_name": "ButtonStyleModel",
            "_view_count": null,
            "_view_module": "@jupyter-widgets/base",
            "_view_module_version": "1.2.0",
            "_view_name": "StyleView",
            "button_color": null,
            "font_weight": ""
          }
        },
        "35f53bf859344660bfdac2f24b32c911": {
          "model_module": "@jupyter-widgets/output",
          "model_name": "OutputModel",
          "model_module_version": "1.0.0",
          "state": {
            "_dom_classes": [],
            "_model_module": "@jupyter-widgets/output",
            "_model_module_version": "1.0.0",
            "_model_name": "OutputModel",
            "_view_count": null,
            "_view_module": "@jupyter-widgets/output",
            "_view_module_version": "1.0.0",
            "_view_name": "OutputView",
            "layout": "IPY_MODEL_0738a7cee21d4a1c889d08ee263e5cff",
            "msg_id": "",
            "outputs": [
              {
                "output_type": "stream",
                "name": "stdout",
                "text": [
                  "\n",
                  "--- Encryption ---\n",
                  "Plaintext bits:  0100001101111001011000100110010101110010001000000101001101100101011000110111010101110010011010010111010001111001\n",
                  "Feistel Mixed:   0000000011111001000111101101111001100100100100000001001011111101000000001100101000010010110011110000110111011110\n",
                  "Permuted bits:   000000001110101001111100011111011001100000100000011111011110100000000000100000110111100011101001000010111011001101\n"
                ]
              },
              {
                "output_type": "stream",
                "name": "stdout",
                "text": [
                  "\n",
                  "=== Dynamic S-Box Table ===\n",
                  "S S-box:     [np.int64(1), np.int64(0)]\n",
                  "S Inv S-box: [1, 0]\n",
                  "P S-box:     [np.int64(4), np.int64(0), np.int64(3), np.int64(1), np.int64(2), np.int64(5)]\n",
                  "P Inv S-box: [1, 3, 4, 2, 0, 5]\n",
                  "D S-box:     [np.int64(4), np.int64(2), np.int64(3), np.int64(5), np.int64(7), np.int64(9), np.int64(1), np.int64(6), np.int64(8), np.int64(0)]\n",
                  "D Inv S-box: [9, 6, 1, 2, 0, 3, 7, 4, 8, 5]\n",
                  "F S-box:     [np.int64(10), np.int64(11), np.int64(7), np.int64(9), np.int64(5), np.int64(8), np.int64(13), np.int64(4), np.int64(1), np.int64(2), np.int64(6), np.int64(3), np.int64(0), np.int64(12)]\n",
                  "F Inv S-box: [12, 8, 9, 11, 7, 4, 10, 2, 5, 3, 0, 1, 13, 6]\n",
                  "\n",
                  "Ciphertext (Base64):\n",
                  "xC5l5LtI4rRyMGVyMzxjjyamVOEDOP7dXd1J+ieSJBAAAABw/wvLSZMVR8ZsPn21FMlnuQ==\n",
                  "\n",
                  "--- Decryption ---\n",
                  "Decrypted permuted bits: 000000001110101001111100011111011001100000100000011111011110100000000000100000110111100011101001000010111011001101000000\n",
                  "Recovered bits:          0100001101111001011000100110010101110010001000000101001101100101011000110111010101110010011010010111010001111001\n",
                  "\n",
                  "Recovered Plaintext:\n",
                  "Cyber Security\n",
                  "\n",
                  "--- Bit Visualizations ---\n"
                ]
              },
              {
                "output_type": "display_data",
                "data": {
                  "text/plain": "<Figure size 2400x200 with 1 Axes>",
                  "image/png": "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\n"
                },
                "metadata": {}
              },
              {
                "output_type": "display_data",
                "data": {
                  "text/plain": "<Figure size 2400x200 with 1 Axes>",
                  "image/png": "iVBORw0KGgoAAAANSUhEUgAACVYAAAC+CAYAAADUDMadAAAAOnRFWHRTb2Z0d2FyZQBNYXRwbG90bGliIHZlcnNpb24zLjEwLjAsIGh0dHBzOi8vbWF0cGxvdGxpYi5vcmcvlHJYcgAAAAlwSFlzAAAPYQAAD2EBqD+naQAAPZFJREFUeJzt3XuYlWW9N/DvwHASwQOEh1REPGRsyzxrRsrGQ4qa4WmXCUXFa2lppbtduDW1d1uZZW+m5jkPuTW1fNUsTC13pVakCboLDUt7zQN4QAUUWe8f7pmYxQADrBXP7fp8rovryllrvnM/v+e+7+eZNb/WaqvVarUAAAAAAAAAAADQqdfqHgAAAAAAAAAAAEDVaKwCAAAAAAAAAACoo7EKAAAAAAAAAACgjsYqAAAAAAAAAACAOhqrAAAAAAAAAAAA6misAgAAAAAAAAAAqKOxCgAAAAAAAAAAoI7GKgAAAAAAAAAAgDoaqwAAAAAAAAAAAOporAIAAICK2nTTTdPW1tblX79+/bLJJpvk8MMPz1133bW6h9hyJk6cmLa2tlx66aU9/p5LL710ifPY1taWPn36ZIMNNsgBBxyQm2++udvvffTRR9PW1pZNN920MQfQAAcffHAGDBiQxx9/fJnPO/DAAzuPdfr06ct87oIFC/L5z38+W2yxRfr161e5Y16eV199NRdccEHe8573ZIMNNkjfvn0zZMiQ7LzzzvniF7+YZ555ZpXyO+bQxIkTV+j7Vsf8OeWUU9LW1pZTTjllhb/3jjvuyBFHHJHhw4enf//+GTRoUEaMGJE999wzX/jCF3L33XevcGbHHKyqsWPHZvDgwfnb3/62uocCAAAAdENjFQAAAFTcO9/5zkyYMCETJkzIe97znixatCjXXHNN3v3ud+ess85a3cNbLareLNGdgQMHdp7HCRMm5MADD8xaa62Vm266KePGjcu//du/rVBeR+Pdo48+2pwBd+O2227LD37wgxxzzDHZaKONlvq8J554Irfcckvnf1900UXLzD3ppJPyH//xH5k7d24OOuigTJgwIYccckiSZI899khbW1vuvPPOhhxDoz300EMZNWpUPvaxj2Xq1KkZOXJkDjnkkOy000556KGHcsopp2TkyJG5/vrrV/dQu1gd82dZTjzxxIwZMyb/+Z//mfb29uy111454IADsummm2batGn53//7f+fMM89c3cNsuDPOOCNz585d4fUPAAAA/GO0r+4BAAAAAMv2kY98pMs71cyfPz+TJ0/Od7/73Zx44okZN25cttxyy9U3QHpk6NCh3b7T1de//vV8+tOfzpe//OW8//3vzzbbbNP52Jvf/OY89NBD6dOnzz9wpEt3/PHHp3///vnc5z63zOdddtllee211/LmN785f/3rX3PFFVfky1/+cvr27dvt86+55pokyV133ZUtttii4eNullmzZmX33XfPnDlzMnbs2Fx00UXZZJNNOh+fN29e/v3f/z1nnnlmDj300Fx33XV573vf+w8bX9Xmz9LcfPPN+epXv5r29vZcfvnlOeKII7o8/uqrr2bq1KmZNWvWahph8+ywww4ZN25cLrvsshx33HF5+9vfvrqHBAAAACzGO1YBAABAYfr3759zzjknAwcOzGuvvVa5d8JhxRx//PHZaKONUqvVcvvtt3d5rE+fPnnLW96SkSNHrqbR/d3UqVMzffr0vPe9782QIUOW+dyLL744SfK1r30tm222WZ555pn88Ic/XOrz//KXvyRJUU1VSfLBD34wc+bMyS677JKbbrqpS1NVkgwYMCBf/epX89nPfjaLFi3KxIkTM3v27H/Y+Ko0f5bl6quvTpIceuihSzRVJa8fx3777ZdPfOIT/+ih/UNMmjQptVotZ5999uoeCgAAAFBHYxUAAAAUaM0118xWW22VJEt8lNcf//jHTJ48OSNHjkz//v2z1lprZfTo0bniiiu6zVr8o9buuuuuHHDAAXnTm96UXr16db7D0uIfG/ajH/0oe+yxR9Zaa62ss846GTduXB544IHOvKuuuiq77rprBg0alLXXXjvve9/78sgjjyzxcy+99NK0tbV1eTeuxT366KNpa2vLpptu2vm1U045pctHAHZ8JGDHv1WtRZLMmTMnxx13XIYPH55+/fplk002yTHHHJM5c+Ys9XtW1XrrrZckWbhwYZevd1eDjrr9+c9/TpKMGDGiSw0W/8i82267LQcccEDWW2+99OnTJ+uss0622GKLHHnkkfn5z3++QmP81re+lSRLPV8dfvazn2XmzJkZMmRIDj744HzoQx9K0v3HAXbMq1qtlqTr+ew4zp/97GdJkj333HOJxxf37LPP5uSTT862226bQYMGZY011sg222yT008/PS+//PISP7tjLp1yyin5y1/+kkmTJmXjjTdOnz59lnuMHcf5i1/8orM2/fr1W+pzTzvttAwbNizPP/98Zx07TJw4sfN4pk+fnsMPPzwbbLBBevfunVNOOWWJrNmzZ+cTn/hENtlkk/Tr1y/Dhw/P8ccfn2effXaJ567q/Ln++uvzkY98JP/0T/+UddZZJ/3798+IESPy4Q9/OH/4wx+WW6OeevLJJ5Mkw4YNa1hmdy644IJsv/32GThwYNZee+3st99+ufvuu5f6/Dlz5uTzn/98Ro0alTXWWCODBg3K9ttvn6985SuZN29el+d+7WtfS1tbW7bccsvMnTu325/d1taWjTfeOM8880yXx/bff/8MHTo03/ve95q6zwAAAAArTmMVAAAAFOqFF15Iki4NHddee23e/va35zvf+U769u2b/fbbLzvssEOmTZuWD37wg/nwhz+81Lxrr702e+yxR/70pz9l7Nix2WuvvZZoFjn//POz//77Z+HChdl3330zbNiw3HzzzRk9enQeeeSRnHjiiZkwYULWWGON7Lvvvhk8eHBuuOGGjB49utvGjxW17bbbZsKECZ3/PWHChC7/1lxzzVWqxZNPPplddtklZ599dubOnZtx48Zl++23z5VXXpmddtqpIcdQ7/nnn+9sUhk1atRyn7/55ptnwoQJGThwYJJk/PjxXWqw/vrrJ3n94/j23nvv3HzzzRkxYkTGjx+f0aNHZ/Dgwbn66qtX6J3O5s+fnx//+Mfp06dPRo8evczndjRQfeADH0jfvn0zceLE9OrVK1OnTs1jjz3W5bmHHHLIUs9nx3F2NJ3ts88+Szze4cEHH8zb3/72nHrqqXnqqaey++67Z+zYsXn66adz0kkn5Z3vfGeef/75bsc7c+bMvOMd78gtt9ySnXfeOQceeGCGDh263Jr84Ac/SPL6Odt+++2X+dz+/fvnsMMOS5LceOON3T7nl7/8ZXbYYYfce++9GT16dPbff/8MGjSoy3OeffbZ7Lzzzrnqqquy/fbbZ//998/cuXPzjW98I7vuumuefvrp5Y67p/MnSQ477LB873vfy4ABAzJmzJjss88+6dWrVy655JJsv/32+eUvf7ncn9cTHe/09f3vfz9//etfG5JZ79Of/nQmT56cNdZYIwcddFA23njj/OhHP8q73vWu3HDDDUs8/09/+lO22267/Md//Eeefvrp7LfffhkzZkxmzpyZf/3Xf83uu+/eZT/4zGc+kwMPPDAzZ87Mxz72sS5Z999/fz75yU+mvb09//mf/7nE/OrTp0/22GOPznUGAAAAVEgNAAAAqKThw4fXktQuueSSJR67//77a7169aolqV188cW1Wq1W+/3vf1/r169frX///rXrrruuy/MfffTR2jbbbFNLUrvsssu6PPbud7+7lqSWpHbOOecscyz9+vWr3XbbbZ1fX7hwYe3QQw+tJan90z/9U23IkCG1++67r/Pxl156qbbbbrvVktROP/30LpmXXHJJLUltwoQJ3f7MWbNm1ZLUhg8fvsRjHeNdmpWtxSGHHFJLUnvXu95Ve+655zq/Pnv27NrOO+/c+XO7OydL03Gc9ccxd+7c2t13313bc889a0lqu+66a23RokVdnrOsGnSck1mzZnX7c0eMGFFLUrvrrruWeOzJJ5+sTZs2rcfHcNttt9WS1HbcccdlPu+5556rDRgwoJakyzzYZ599aklqp556arfft6zz2TE/77jjjm4ff/nll2sjR46sJalNmTKltmDBgs7HXnrppdq//Mu/1JLUPvShD3X5vpNPPrnz5x555JG1+fPnL/PY6r3rXe/qNndpLrvsslqSWq9evWqvvvpq59cnTJjQOY7Pfe5ztddee22J7+2YQ0lqu+yyS2327Nmdjz377LOda+yII47o8n2rMn9qtVrt6quvrr344otdvrZo0aLaOeecU0tSGzVq1BJztqOuJ5988jKq0dW9995ba29vryWpDRgwoHbIIYfUvvGNb9R+/vOf11566aUe53Sno24DBgyo/fSnP+3y2Fe+8pVaktpaa61Ve/LJJ7s81rHeDzzwwC41eOqpp2rbbbddLUnt/e9/f5fvefbZZ2ubbrppLUnt3HPPrdVqtdoLL7xQ22KLLWpJal/96leXOs6zzjqrlqQ2adKkVTpeAAAAoLG8YxUAAAAU5Pnnn88tt9yS973vfVm0aFE23HDDznfC+dKXvpQFCxbk9NNPz/ve974u3zd8+PDOdxL65je/2W32mDFj8vGPf3yZP/+Tn/xk/vmf/7nzv3v37p1/+7d/S5JMnz49p556at7+9rd3Pr7GGmvkM5/5TJLkpz/96Qoe7cpbmVo89thjuf7669PW1pbzzjsva621Vudj6667bs4777xVGtOf//znLh+5NmjQoOyyyy755S9/mZNOOim33XZbl485XFVPPvlk1lprrey+++5LPDZs2LC84x3v6HHW7373uyTJ1ltvvcznfe9738u8efOy/fbbd5kHkyZNSpJccsklnR/71yiXXXZZHnnkkYwbNy6nnXZa+vbt2/nYGmuske985zsZNmxYLr/88m7fcWzddddd7kf5dafj3aE63lFreTqet2jRom4/7m3LLbfM6aefnl69lv1y3bnnnpt1112387/XXnvtnHfeeWlra8s111yTxx9/vKeHsFyHH3545ztbdWhra8vHP/7x7LrrrpkxY0YeeuihVf45O+64Y2644YZstNFGmTdvXr7//e/nuOOOy+jRo7P22mtn7733ztSpU1fpZ0yePDljxozp8rUTTjghO+ywQ55//vlceOGFnV//r//6r9xzzz2d82fxGrzpTW/Kd77znSTJ1Vdf3aXea6+9dq655pr07ds3xx13XO6777585CMfycyZM3PAAQd07oXd6Xi3umnTpq3ScQIAAACNpbEKAAAAKu5DH/pQZzPO2muvnf333z+PPPJIRo4cmVtuuSUDBw7MokWL8qMf/SjJ680Q3dlhhx2y5ppr5ne/+13mz5+/xOOHHHLIcsey3377LfG1LbbYokeP/7//9/+Wm98IK1uLn//851m0aFG22267vPWtb13ie7bddtu87W1vW+lxDRw4sMtHrv3Lv/xLdt999yxcuDBnnXVWvvGNb6x0dnd22mmnPP/88znqqKPy29/+NosWLVrprCeffDJJMmTIkGU+r6M5pf5jFg866KAMGTIks2bNyu23377S4+jOzTffnGTp53rNNdfMDjvskIULF+bXv/71Eo+PHTu2SxNdsyyvoey9731vevfuvcznvP3tb8+22267xNe32WabvOMd78iiRYvy85//fFWGuYSHH3443/rWt3Lcccdl0qRJmThxYiZOnNg5Jzo+xnJVjRs3Ln/605/yf//v/82nPvWp7LbbblljjTXy6quvZurUqdl7771z8sknr3T+4h85ubijjjoqSXLnnXd2fq3jf++7777dNs51NA4uWrQoP/vZz7o8tuOOO+bMM8/MggULsscee+Saa67J8OHDc9llly2zcbJjbXXUFQAAAKiG9tU9AAAAAGDZ3vnOd2bzzTdPkvTt2zfDhg3LLrvskn333Tft7a//aj979uy88MILSZKNN954uZmzZ8/Om9/85i5f23TTTZf7fZtssskSX1tzzTWX+figQYOSpNtmrmZY2Vp0vPPMiBEjlvrcESNG5Pe///1KjWvo0KG59NJLl/j6zJkzs8cee+QLX/hC+vXrt8x3tVkR3/72tzNu3LhcfvnlufzyyzNo0KDsuOOOGTNmTD74wQ92e66W5vnnn0+SDB48eKnPuf/++/Pb3/42/fv3z/vf//4uj/Xt2zcf+MAH8s1vfjMXX3xxl3c9W1V/+tOfkiQf/OAH88EPfnCZz+14l6nF9WTed2fo0KFJet4I89RTTyVJevXq1eUdp1ZkHMubm9OmTWvYO1a99tprOeaYY3L++ecvsymsY601Qp8+fTJu3LiMGzcuSbJgwYLceeedmTJlSn7zm9/k1FNPzf7775+ddtopSTJx4sQlMoYOHZozzzxzia8vrXYdX1+8bn/961+X+T1JMnLkyNx///2dz13csccem5tuuik/+clP0tbWlquvvjrrrLPOUrOSv6+t7t5VDQAAAFh9NFYBAABAxX3kIx/ptoFgcYu/G9HS3pllcd197NmAAQOW+33L+5iy5T2+Ilb2HZYaUYt/pC222CKf+9zn8slPfjJnnHFGwxqrtt566/zhD3/IT37yk9x+++355S9/mbvuuiu33357Tj311Fx00UU58sgje5S19tprJ1l2E03Hxyu2t7d3NsYsbvbs2UmS66+/Ps8991xn5qrqON9Le3ehxQ0fPnyJr/Vk3ndn++237/zIuJ649957k7z+rlMdDZGNGEe9Rn3U4tlnn53zzjsv66+/fs4666zstttuWW+99dK/f/8kyfvf//5873vfa/hHOy6uX79+2WefffLOd74zb3nLW/LXv/41P/zhDzsbqy677LIlvmf48OHdNlYtTyOPY+bMmfnVr37VmXvvvfdml112Web3dDQvLq8BCwAAAPjH0lgFAAAAbwBDhw7NgAEDMm/evJx55pmd76ZTZX379k2SzJ07t9vH//znP69U7srWouMdvB599NGlPmdZj62KzTbbLEnyzDPP5JlnnmnY+Wtvb89+++3X+RGNL7zwQs4666x88YtfzOTJk3PwwQdn4MCBy80ZNmxYkr83R9VbsGBBrrzyyiTJiy++mF/84hdLzZo/f36uvPLKfOITn1jRw+nWxhtvnP/+7//OpEmTevRxlo1y0EEH5eyzz86DDz6Y3/72t9l+++2X+tz58+fnmmuuSZIceOCBK/0zZ82atdTHOubmRhtttNL5i+sY7/nnn9/tmGfOnNmQn9MTa665Znbdddd8//vfzzPPPNP59RVphpo1a1a3H6PYXd069oKOd0PrTsdj9e/8N3/+/Bx22GGZO3duPvCBD+T73/9+TjjhhOy2227ZYYcdlprXsbaW1xwIAAAA/GM17v9GCgAAAKw2vXv3zl577ZXk7w0RVdfRkPDf//3f3T5+8803L/V7+/TpkyRZuHDhEo+tbC1Gjx6dtra2TJs2rdsx3X///Sv9MYDL88gjjyR5/R2/evrORR2Nad3VYGkGDx6cU045JWuvvXZefvnl/PGPf+zR92233XZJkgcffLDbx6+//vrMmTMnG264YRYuXJhardbtv29/+9tJ/v7uVj2xvON8z3vek+QfP+/33HPPznch+sQnPpEFCxYs9bknnXRSnn766QwePHiVGsp+//vfdzsHZ8yYkWnTpqVXr14ZPXp0j7KWV9c5c+Yk6f5dvmbMmJH77ruvh6Nevp40SP3lL39JsvKNY5dffvkyv77HHnt0fq3jf996663dftTj7373u9x3333d1vtTn/pU7rvvvuy555757ne/m6997Wt55ZVXcthhh+W5555b6vimT5+eJMts0AMAAAD+8TRWAQAAwBvEySefnL59++aEE07IZZdd1u1H6U2fPj3XX3/9ahjdknbaaacMHjw4Dz744BJND9dee22++c1vLvV7O5orZsyY0e3jK1OLTTbZJAcffHAWLVqUo48+usvH3j377LP5+Mc/3pSPPZs5c2a+/OUvJ0nGjh3bo3eQSpZdg5dffjlnnXVWnn766SUeu+uuu/Lcc8+ld+/ePW5S2W233dKvX7/cf//9mTdv3hKPdzRKHXnkkendu/dSc4444oj07du3szGlJ5Z3rj/2sY9l+PDhufbaa/Ov//qv3b4D2t/+9rdccMEFPfp5K+KKK67I2muvnXvuuSfjxo3LY4891uXxefPm5cQTT8yZZ56Ztra2XHzxxXnTm9600j+vVqvl6KOPzrPPPtv5teeffz5HH310arVaxo8fn4033rhHWcur69Zbb50kOeecc7qsnyeeeCJHHXXUCjX0Lc+kSZMyZcqUPPzww0s8Nm/evJxyyim59957097evtLvSnbuuefmzjvv7PK1r3/967n33nszaNCgTJo0qfPru+++e3beeefMmzcvkydPzssvv9z52DPPPJPJkycneX0+L17vq666Kt/5zney3nrr5aqrrkqvXr3yiU98IoccckhmzZqVD3/4w0sd3y9/+cskyZgxY1bq+AAAAIDm8FGAAAAA8Aax3Xbb5YorrsjEiRMzceLETJkyJW9961vzpje9KXPmzMkDDzyQxx9/PIcffnje9773re7hZsCAAfniF7+Y448/PkcddVTOPffcvPnNb85DDz2UBx98MFOmTMlpp53W7feOHz8+Z555ZsaOHZsxY8Zk0KBBSZIvf/nLGTJkyErX4pxzzsn999+fO++8MyNGjMgee+yRWq2WO+64I0OGDMmBBx6YG2+8caWO95lnnsnEiRM7//uVV17JY489ll/96ld57bXXsskmm+Tcc8/tcd748eNzxx135Mgjj8zee++dddZZJ0lywgknZL311stnPvOZnHDCCdlmm22yxRZbpE+fPnn00Udz9913J0m+8IUv9LjJp3///tlnn31y44035s477+x8l6jk9Y9Yu/3225MkEyZMWGbOOuusk3HjxuX666/PRRddlP/zf/5Pj47zkksuyYknnpjbbrstw4YNS1tbWz784Q9nt912y8CBA3PzzTdn3Lhx+cpXvpLvfOc7edvb3paNNtqo8125HnrooQwbNiwf/ehHe3S8PTVy5Mj813/9Vw466KDcdttt2WyzzbLLLrtk4403znPPPZdf/OIXeeGFF7Lmmmvm4osvzvjx41fp5x144IGZPn16Nttss+y5555pa2vLnXfemTlz5mSLLbbIt771rR5nLWv+bLXVVvn85z+fW2+9NRdccEHuuOOObLfddnnhhRfys5/9LJtttlkOPvjg3HDDDat0PB3mzJmTSy65JF/60pey2WabZdSoURk0aFCeeuqp/Pa3v82zzz6b3r1755vf/GZnw9eKmjx5csaMGZN3vetdefOb35zp06fngQceSO/evXPxxRdn/fXX7/L8q666KmPGjMkPf/jDjBgxIqNHj86rr76aO+64Iy+88EK22267LvX+wx/+kMmTJ6dXr1656qqruuRdeOGFmTZtWm644YacffbZ+dSnPtXlZ7366qv5+c9/3rnOAAAAgOrQWAUAAABvIIceemh23HHHfPOb38zUqVPzi1/8Iq+99lrWW2+9bL755jnmmGNW+h1fmuG4447Luuuum7PPPju/+93vMmPGjOywww75xje+kc0333ypjVWnnXZaevXqleuvvz4/+MEP8sorryRJpkyZkiFDhiRZuVqsv/76ueeee/LFL34xN9xwQ2666aYMGzYsRxxxRE477bR89rOfXeljfemll3LZZZd1/ndbW1sGDx6c7bffPgceeGCOPfbYDB48uMd5Rx99dObOnZsrrrgit9xyS+bPn5/k9XeNGjlyZM4777z87Gc/y+9+97tMnTo1r7zySjbccMO8733vy8c//vEVfmecY445JjfeeGMuvfTSLo1Vl1xySWq1WnbYYYe89a1vXW7OUUcdleuvvz5XXnllvvrVr6Z///7LfP7++++fCy64IOeee25uv/32zncP2n333bPbbrslSUaNGpXf//73Oe+883LDDTfk97//fX71q19l6NCh2WijjfLZz342Bx988Aodb0+NGjUqDz74YC699NJcd911uf/++3PPPfdkzTXXzJZbbpn99tsvxxxzzCq9U1WHddZZJ3fffXdOOumk3HzzzXnqqaey3nrr5cgjj8zJJ5+cddddt8dZy5o/W221VXbeeef85je/yZQpU/LrX/86N954YzbeeOMce+yxmTJlSo499thVPp4O55xzTt773vfmpz/9aR544IHcc889mTNnTgYMGJARI0bkAx/4QP7X//pfGTVq1Er/jK9//evZaqutcv755+fXv/51+vTpk3333TcnnXRS5zxa3GabbZZp06blzDPPzA9+8IPcdNNN6dWrV7baaqscfvjh+eQnP9n5sZ3z5s3LoYcemhdffDEnn3zyEmtrrbXWyjXXXJN3vvOdOfHEE7Pbbrtlxx137Hz8pptuyjPPPJMPfehDK3QOAQAAgOZrqzXjPewBAAAAeEOp1Wp529velpkzZ+bxxx/P0KFDV/eQ4A3hgAMOyM0335xp06Zl2223Xd3DAQAAABbTa3UPAAAAAIDqa2try1lnnZUFCxbkjDPOWN3DgTeEX//617npppsyYcIETVUAAABQQd6xCgAAAIAeO/jgg3Prrbdm5syZ2WijjVb3cKBoY8eOzb333ps//vGPWX/99Vf3cAAAAIA6GqsAAAAAAAAAAADq+ChAAAAAAAAAAACAOhqrAAAAAAAAAAAA6misAgAAAAAAAAAAqKOxCgAAAAAAAAAAoI7GKgAAAAAAAAAAgDoaqwAAAAAAAAAAAOporAIAAAAAAAAAAKijsQoAAAAAAAAAAKCOxioAAAAAAAAAAIA6GqsAAAAAAAAAAADqaKwCAAAAAAAAAACoo7EKAAAAAAAAAACgjsYqAAAAAAAAAACAOhqrAAAAAAAAAAAA6misAgAAAAAAAAAAqKOxCgAAAAAAAAAAoI7GKgAAAAAAAAAAgDoaqwAAAAAAAAAAAOporAIAAAAAAAAAAKijsQoAAAAAAAAAAKCOxioAAAAAAAAAAIA6GqsAAAAAAAAAAADqaKwCAAAAAAAAAACoo7EKAAAAAAAAAACgjsYqAAAAAAAAAACAOhqrAAAAAAAAAAAA6misAgAAAAAAAAAAqKOxCgAAAAAAAAAAoI7GKgAAAAAAAAAAgDoaqwAAAAAAAAAAAOporAIAAAAAAAAAAKijsQoAAAAAAAAAAKCOxioAAAAAAAAAAIA6GqsAAAAAAAAAAADqaKwCAAAAAAAAAACoo7EKAAAAAAAAAACgjsYqAAAAAAAAAACAOhqrAAAAAAAAAAAA6misAgAAAAAAAAAAqKOxCgAAAAAAAAAAoI7GKgAAAAAAAAAAgDoaqwAAAAAAAAAAAOporAIAAAAAAAAAAKijsQoAAAAAAAAAAKCOxioAAAAAAAAAAIA6GqsAAAAAAAAAAADqaKwCAAAAAAAAAACoo7EKAAAAAAAAAACgjsYqAAAAAAAAAACAOhqrAAAAAAAAAAAA6misAgAAAAAAAAAAqKOxCgAAAAAAAAAAoI7GKgAAAAAAAAAAgDoaqwAAAAAAAAAAAOporAIAAAAAAAAAAKijsQoAAAAAAAAAAKCOxioAAAAAAAAAAIA6GqsAAAAAAAAAAADqaKwCAAAAAAAAAACoo7EKAAAAAAAAAACgjsYqAAAAAAAAAACAOhqrAAAAAAAAAAAA6misAgAAAAAAAAAAqKOxCgAAAAAAAAAAoE77yn7jPffck379+mXzzTfPmmuuudIDePHFF/Pwww9nwYIFDclr5cwSxlhKZgljLCWzhDGWklnCGEvJLGGMpWSWMMZWzixhjKVkljDGUjJLGGMpmSWMsZTMEsZYSmYJYywls4QxtnJmCWMsJbOEMZaSWcIYS8ksYYylZJYwxlIySxhjKZkljLGVM0sYYymZJYyxlMwSxlhKZgljLCWzhDGWklnCGEvJLGGMK6W2kpLUktTa2tpqW221Ve3YY4+tzZgxo0ffO2PGjNqxxx5b22qrrWptbW2dWSub18qZJYyx2ZkjR76l28yRI9+yUrVsVF6zM0uoZZXH2OxxNnqNlzIvq5zZqnOoGZklnO9WzixtD67ymlTLMmrZapklnO9SMksYY7MzS7jParXMEs53K2eWdn6qvBeVMMZSMksYYymZ1ngZtSwls4T7rCofdzMySxjj4pmlzPUSftctJbOEWlZ5DjXj2Es77ipnljYvq7xvqGXrrvFWrWUjj3tVtNVqtVpWwvXXX5/58+fnkUceyYwZM3Lbbbdl9uzZ2WeffXLuuedmxIgRS3zPrFmzcvTRR+fHP/5xhgwZkrFjx2bUqFEZOXJk+vfvv8J5rZxZwhibmTl58sczdeqtaW8floULxyfZMclbk6yR5OUkDyb5ddrbr8vChU9lr732zfnnf3uptWxkXjMzS6hl1cfYzHE2eo2XMi+rntmqc6gZmSWc71bOLGkPrvqaVMvq17IVM0s436VkljDGZmaWcJ/VipklnO9Wzizp/FR9LyphjKVkljDGUjKt8erXspTMEu6zqn7cJdWylPNT9cySzk/Vz3kJY2xmZgn3/62YWdK8rPq+oZatucZbtZaNPu6GWNmOrAceeKDLv2nTptXOOOOM2oYbblgbOHBg7YILLujy/AsuuKA2cODA2oYbblg744wzatOmTVsiY0XyWjmzhDE2M7N//4G19vbhteTKWrKgltSW8W9BLbmy1t6+Sa1//+5r2ci8ZmaWUMuqj7GUuV7SvKx6ZqvOIfOy9TJL2oOrvibVsvq1bMXMEs53KZkljLGZmSXcZ7ViZgnnu5UzSzo/Vd+LShhjKZkljLGUTGu8+rUsJbOE+6yqH3dJtSzl/FQ9s6TzU/VzXsIYm5lZwv1/K2aWNC+rvm+oZWuu8VatZaOPu1Gyst+4tILcfffdtfHjx9eS1E4//fRarVarnX766bUktfHjx9fuvvvuZRa0J3mtnFnCGJudmXyklrywnEVU/++F//m+JWvZqLxmZ5ZQyyqPsZS5Xtq8rHJmq84h87L1Mkvbg6u8JtWyjFq2WmYJ57uUzBLGWMpeVNreVuXMEs53K2eWdn6qvBeVMMZSMksYYymZ1ngZtSwls4T7rCofd2m1LOX8VDmztPNT5XNewhhL2YtKO+4qZ5Y2L6u8b6hl667xVq1lI4+7kVb6owCnT5++zMfPO++8nHPOOTnqqKPy3e9+N8ccc0wmT568Mj+qS96FF16YWq2Wj370oy2XqZYfTXJakikrnfn69/97Zy0bldeMMZZWyyqPsZS5Xtq8rHJmM2tZ5TlkXrZeZml7cJXXpFqWUctWy3Q9My8bmVnCfVarZbr2VDuztPNT5b3IHqyWVcy0xsuoZSmZJdxnVfm4S6tlKeenypmlnZ8qn/PS9o0q70WuZ607L6u8b6hl667xVq1lI4970qRJq5CzpKY1VtVqtZx44on5yU9+koMPPjinnHLKyvyYLnlf/OIXc8stt6StrS3vec97Wiqz1Wu5aFFbFix4f5ILVikzqSX5lyTfTzIxyYUNyPtY+va9Mm1tjRzj65nt7dWvZa9e1zZ8XjZ2jM2rZaPX+K23Tk0J87L6mc1Z41WfQ+ZlK2aWswdX/RrZrPsstVz1vFL2y5L24Fa9nrXyvGzV36Wqn9na1/HqZ5Zzfqq+r7f6HqyW1cws6f7fGq92Zgn3WdV/fbmc1war/vt4Keun1V9vbPRrMK38ukEJf+uq+nosaY27nqnlqmWWs8ZbtZaNPu7+/b+XBx98ICNGjFjFvL9rWmNVknz0ox/NrFmz8sMf/jADBw5cmR/TxYsvvpgxY8Zk8ODBLZfZyrV897vH5NVXh6RWezDJoFXOTPZK8tD//GtE3gtJNkhb27oNHOML6d17gwwdOqjStezVa2yGDp2eG2+s7hibVctGz/VJkz6We+/9S6o+L8vIbPwaL2EOmZetl1nKHlzCNbIZ91lqWd29rZTMZuzBrXo9a+V52aq/S5WQ2crX8RIySzk/JezrrbwHq2V1M0u5/7fGq51Zwn1WCa8vl/LaYAm/j5eyflr59cZGn/NWft2ghL91lbAeS1njrmdquapKWeOtWstmHHd7+zbZc8+35ic/+VED8l7Xa0W/YebMmdltt90ybty4HHHEEXn44Ye7fd4jjzySu+++O8cff/xyi/rnP/85Rx555HIzn3zyycybN2+5mT3NKyWz1Wv5yivzUqt9OUtfSJ9MsmmStiT3LTXrdQ8muS3JV5aRt6KZjyd5eTljXPHM1157ufK1XLTop/n0pxs7L5c/xhUdZ3Nq2eg1fu+9v0oJ83L1ZK7+NV71OdSMTPOykfOyGZnl7MHNqGUj12Sz7rPUsvXuWUvYg1v1etbK87JVf5eq/r3BG+k63oxM91lvlH291fdgtaxmZkn3/9Z4NY+7I7OE+6zV8/ryio+zhNcGS3n9v+rr5431euPqfw2mlV83KOFvXVVfj83ILGletur1rFVrWcoab9VaNv64B2fhwv/I1Km35qGHHlrOc3tuhRurJk+enI997GO56aab8uEPfzhTpnT/GYfXXHNN1l133ey9997LzTz11FNzyCGHNCyzp3mlZLZ6LXv3HpbkkGUkHpLkv5IMX+bPfd15SZaXV43MtdYaUvla9mSMKzLOno2xOeNc3Wu8GcddylxffubqH2PV51AzMs3LRs7LZmSWswc3o5aNXJPNus9Sy2V7I96zlrAHt+r1rJXnZav+LlX9e4M30nW8GZnus94o+3qr78FqWc3Mku7/rfFVz2tmZgn3Wavn9eUVH2cJrw2Wcn6qvn5a/Z610a/BtOK1pyOzhL91VX09NiOzpHnZqtezVq1lKWu8VWvZ+ONOkvFpbx+Wc889t4fPX74Vaqx66qmn8pvf/CZHHnlkkmSvvfbK3/72t/zlL39Z4rm/+tWvstdee6VPnz7LzJw9e3ZmzJiRcePGNSRzRfJKyWzlWt5119157bXxSfouNTMZnWSjZTy+uKlJlpe3+jPb23+SffcdW+la9mSMKzrOno2x8eNc3XO9GcddylzvWeYbbz2WsAebl42cl43PLGUPbkYtG70mm3GfpZatd89awh7cqtezVp6Xrfq7VAn3Bm+s63gzMt1nNWqcq3svauU9WC2rm1nK/b81Xt3jTsq4z1p9ry+v2DhLeG2wlPNTwvpp5XvWRp/zVr32JGX8rauE9diMzFLmZatez1q1lqWs8VatZXOOO0n6ZeHC8fnRj25bge9ZthVqrHrssceywQYbpL29PUnS1taWDTbYIE888USX57300kt59NFHM2rUqOVm/u1vf8ub3vSmhmX2NK+UzFav5eOPz0qy4zIze25ukj80MK95mQsX/rHytezJGFdknI0fY8/HubrXeDOOu5S53tjMctZj1fdg87LqmeXswVVfk826z1LLZXsj3rOWsAe36vWsledlq/4uVf3M1r6OVz+znPNT9X291fdgtaxmZkn3/9b4quc1M7OE+6zqv778+jhLeG2wlPNT9fVTxhxqXmajX4NpxWtPR2YJf+uq+npsRmZJ87L6e1H196GknFqWssZbtZaNP+7F7ZBHHvnvvPjiiw1JW+GPAuyJxx57LLVaLSNHjpRZsbwSM5O3NijxkSSNzGtuZgm1rPYYk2aOs9FrvJR5We3MstZjlTPNy6pnlrUHV3lNlnH/krR6LVsts1XviZqRWcIYm51Zwn1W62W6jlc7s6zzU+W9qLT9ssqZJYyxlMwyrrmJNV5GZgn3WdU+7qSk1wZLOT9VzixjDjU3s4RaVnkOLZ5Zwv1/q2WWNi+rvW9Ufx9KyqplldfO4pmtWsvGHvfiRqVWq+Xhhx9uSNoKNVZtvPHGeeKJJ7Jw4cIkSa1WyxNPPJENNtigy/NeeeWVJEn//v2Xm7n++uvn6aefblhmT/NKyVTLJFljmZk9t6DBec3NLKGWzZiXpdSy0Wu8lHlZ7cyy1mOVM83LqmeWtQdXeU028z5LLf9xmfbgnmjt61krz8sS7rNaL9N1vNqZZZ2fKu9F9mC1rGJmaff/rVrLKh/34pkl3GdV+7j/Ps4SalnK+alyZhlzqLmZJdSyynNo8cwS7v9LqWWrzstq7xvV34eSsmpZyhpv1Vo29rgXNyBJsmDBguU8r2dWqLFq2LBh2W677XLFFVckSaZOnZr11lsvm2yySZfn9e37+mcgzp8/f7mZQ4YMydZbb52bbrqpIZk9zSslUy2T5OVlZvZcvwbnNTezhFo2Y16WUstGr/FS5mW1M8taj1XONC+rnlnWHlzlNdnM+yy1/Mdl2oN7orWvZ608L0u4z2q9TNfxameWdX6qvBfZg9Wyipml3f+3ai2rfNyLZ5Zwn1Xt4/77OEuoZSnnp8qZZcyh5maWUMsqz6HFM0u4/y+llq06L6u9b1R/H0rKqmUpa7xVa9nY417cvCRJv379lvO8nlnhjwI8//zzc/7552fcuHG56KKLctpppy3xnE022SRtbW155JFHepT57//+77n22msbltmTvFIy1bItyYPLSZycZKMkjyfZJ8nmS3ne5kl6kleNzBJq2Yx5WUotG73GS5mXqydz9Y+xynOoGZnmZSPnZTMyy9qDm1HLEu6z1PIfm2kPdj0zL7vPLOE+642T2arX8WZkus96I+zr9mC1rGJmaff/rVrLKh/34pkl3GetnuNe8XGWUMtSzk+VM92zllHLKs+hxTNLuP8vpZatOi+rvW+Ude0poZalrPFWrWVjj3txM9LW1pbNN+/Jc5evrfb6BxeusOnTpy/z8QMPPDA77bRTpkyZslIDk9m8vJIy99vvoDz22D5Jvt2gxK2T7NnAvOZktre/JePHb1vpWpYwxqQ542z0XG/GcZcy1xufWcZ6LGEPNi+rnVnKHlzCmizj/iVp1Vq2amar3hM1I7OEMTYrs1V/lyohs5Wv4yVklnJ+StjXS9kvS8gsYYylZJZxzbXGq55Zwn1WKdezEl4bLOX8lLB+yphDzcls9Dlv1WtPUsbfukpYj83ILGVelrEXVX8fSsqoZSlrvFVr2Zzj7vDxbL75nZk5syeNW8u3wu9Y1VO77rprpk6dmldffVVmxfJKynzXu3ZJ797XJXlluc/tmb2SNDKvOZkLF+6dW2+9rdK1LGGMSXPG2ei53ozjLmWuNz6zjPVYwh5sXlY7s5Q9uIQ1Wcb9S9KqtWzVzFa9J2pGZgljbFZmq/4uVUJmK1/HS8gs5fyUsK+Xsl+WkFnCGEvJLOOaa41XPbOE+6xSrmclvDZYyvkpYf2UMYeak9noc96q156kjL91lbAem5FZyrwsYy+q/j6UlFHLUtZ4q9ayOcedJAvS3n5d3vOesQ1LbFpj1WGHHZY5c+bkJz/5icyK5ZWW+dprTyX5foMS/1eSRuY1L/P552dXvpbVH2PSrHE2eo0347hLmeuNzSxnPVZ9DzYvq55Zzh5c9TVZxv1L0sq1bMXMVr0nakZmCWNsZmar/i5V/czWvo5XP7Oc81P1fb2k/bLqmSWMsZTMMq65iTVe/cwS7rNKuZ6V8NpgKeen6uunjDnUvMxGvwbTiteejswS/tZV9fXYjMyS5mX196Lq70NJObUsZY23ai0bf9xJcl0WLnwqRx99dMMSm9ZYNXLkyOyyyy75+te/npdeeqkhmeutt14GDBjQcpmtXsu+fQekre1fk8xtQOJbk4xNcmKD8pLXP89zjQaO8fXM3r3XqHwte/X655x1VpXHmDSrlo1e4zvttGtKmJfVz2zOGq/6HGpGpnlZ9cxy9uCqXyObdZ+lltXc20rJbNYe3KrXs1ael636u1T1M1v7Ol79zHLOT9X39Vbfg9Wympkl3f9b49XOLOE+q/qvLyelvDZY9d/HkzLWT6u/3tjo12Ba+XWDEv7WVfX12IzMkuZlq17PWrWWpazxVq1l44/7hbS3/1v22mvfbL311g3KbGJjVa1Wy9prr52nn346X/3qVxuSd+aZZyZJ5s6d23KZrVzL3r2Tvn3nJPn0KmcmtSRDkvwtyfENyvtM+vatNXiMn0nv3rXK13LRoqF55pnGzsvGn+/m1DJp7Fxfd921UsK8LCOz8Wu8hDlkXrZeZil7cAnXyGbcZ6lldfe2UjKbsQe36vWsledlq/4uVUJmK1/HS8gs5fyUsK+38h7c6Ey1rHYtrfHqjrGV77NKeH25lNcGS/h9vJT108qvNzb6nLfy6wYl/K0rqf56LGWNu56p5apmlrLGW7WWzTju9vbZOf/8bzcg7+/aG5r2P2q1Ws4///zceuutOeqoo/Ld7343G2ywQSZPnrxKedddd10uvPDC1Gq1fPSjH22pTLV8PTMZnmTKSmW+vpBOT/Kf/1PLi5Js2oC8C/Ptbzd6jF0zq1zLI49s3rwspZaNXePlzMvqZjZ3jVd1DpmXrZhZ3h5c1X292fdZarnyeaXslyXuwVU9br9LVf/+372B63hrZJZ3fqq6F9mD1bKKmSXe/7dqLUvJLOE+q7rHXd5rg620xkv8Xbe687KZr8GUs29Udy9q7v1/K2WWOC+ru2+4N2jlNd6qtWzUcX/rWxdmxIgRK5nTvYY3Vr344os588wzc9111+VLX/pSPv/5z2fLLbfMlClT8sQTT+SEE07IwIEDVzpv0qRJSZInn3yy5TLV8vXM5M9JzkoyqMeZyQtJPpPkwiVq2Yi8ZoyxxFpWdYylzPUS52VVM5tdy6rOIfOy9TJL3IOruibVspxatlKm65l5WcW9yL2B63irZJZ4fqq6F9mD1bKKmdZ4ObUsJbOE+6yqHneJtSzl/FQ1s8TzU9VzXuK+UdW9yPWstedlVfcNtWztNd6qtWzkcTdUbSU98MADXf799re/rZ1xxhm1DTfcsDZw4MDahRde2OX5F1xwQW3gwIG1DTfcsHbGGWfUpk2btkTGiuS1cmYJY2xmZv/+A2vt7ZvUkitryYJaUlvGv/m15Mpae/smtf79u69lI/OamVlCLas+xlLmeknzsuqZrTqHzMvWyyxpD676mlTL6teyFTNLON+lZJYwxmZmlnCf1YqZJZzvVs4s6fxUfS8qYYylZJYwxlIyrfHq17KUzBLus6p+3CXVspTzU/XMks5P1c95CWNsZmYJ9/+tmFnSvKz6vqGWrbnGW7WWjT7uRmmr1Wq1lWnIuu6667JgwYI88sgjmTFjRm677bbMnj07++yzT84999xu31pr1qxZOfroo/PjH/84Q4YMydixYzNq1KiMHDky/fr1W+G8Vs4sYYzNzJw8+eOZOvXWtLcPy8KF45PskGRUkgFJ5iWZkeQ3aW+/LgsXPpW99to355//7aXWspF5zcwsoZZVH2Mzx9noNV7KvKx6ZqvOoWZklnC+WzmzpD246mtSLatfy1bMLOF8l5JZwhibmVnCfVYrZpZwvls5s6TzU/W9qIQxlpJZwhhLybTGq1/LUjJLuM+q+nGXVMtSzk/VM0s6P1U/5yWMsZmZJdz/t2JmSfOy6vuGWrbmGm/VWjb6uBtiZTuyktSS1Nra2mpvectbascee2ztwQcf7NH3zpgxo3bsscfW3vKWt9Ta2to6s1Y2r5UzSxhjszM333zrbjM333zrlaplo/KanVlCLas8xmaPs9FrvJR5WeXMVp1Dzcgs4Xy3cmZpe3CV16RallHLVsss4XyXklnCGJudWcJ9VqtllnC+WzmztPNT5b2ohDGWklnCGEvJtMbLqGUpmSXcZ1X5uJuRWcIYF88sZa6X8LtuKZkl1LLKc6gZx17acVc5s7R5WeV9Qy1bd423ai0bedyrYqXfseqee+5Jv379svnmm2fNNddcmYgkr3+G4sMPP5wFCxY0JK+VM0sYYymZJYyxlMwSxlhKZgljLCWzhDGWklnCGFs5s4QxlpJZwhhLySxhjKVkljDGUjJLGGMpmSWMsZTMEsbYypkljLGUzBLGWEpmCWMsJbOEMZaSWcIYS8ksYYylZJYwxlbOLGGMpWSWMMZSMksYYymZJYyxlMwSxlhKZgljLCWzhDGujJVurAIAAAAAAAAAAHij6rW6BwAAAAAAAAAAAFA1GqsAAAAAAAAAAADqaKwCAAAAAAAAAACoo7EKAAAAAAAAAACgjsYqAAAAAAAAAACAOhqrAAAAAAAAAAAA6misAgAAAAAAAAAAqKOxCgAAAAAAAAAAoI7GKgAAAAAAAAAAgDoaqwAAAAAAAAAAAOporAIAAAAAAAAAAKijsQoAAAAAAAAAAKCOxioAAAAAAAAAAIA6GqsAAAAAAAAAAADqaKwCAAAAAAAAAACoo7EKAAAAAAAAAACgjsYqAAAAAAAAAACAOhqrAAAAAAAAAAAA6misAgAAAAAAAAAAqKOxCgAAAAAAAAAAoI7GKgAAAAAAAAAAgDoaqwAAAAAAAAAAAOporAIAAAAAAAAAAKijsQoAAAAAAAAAAKCOxioAAAAAAAAAAIA6GqsAAAAAAAAAAADqaKwCAAAAAAAAAACoo7EKAAAAAAAAAACgjsYqAAAAAAAAAACAOhqrAAAAAAAAAAAA6misAgAAAAAAAAAAqKOxCgAAAAAAAAAAoI7GKgAAAAAAAAAAgDoaqwAAAAAAAAAAAOporAIAAAAAAAAAAKijsQoAAAAAAAAAAKCOxioAAAAAAAAAAIA6GqsAAAAAAAAAAADqaKwCAAAAAAAAAACoo7EKAAAAAAAAAACgjsYqAAAAAAAAAACAOhqrAAAAAAAAAAAA6misAgAAAAAAAAAAqKOxCgAAAAAAAAAAoI7GKgAAAAAAAAAAgDoaqwAAAAAAAAAAAOporAIAAAAAAAAAAKijsQoAAAAAAAAAAKCOxioAAAAAAAAAAIA6GqsAAAAAAAAAAADqaKwCAAAAAAAAAACoo7EKAAAAAAAAAACgjsYqAAAAAAAAAACAOhqrAAAAAAAAAAAA6misAgAAAAAAAAAAqKOxCgAAAAAAAAAAoI7GKgAAAAAAAAAAgDoaqwAAAAAAAAAAAOporAIAAAAAAAAAAKijsQoAAAAAAAAAAKCOxioAAAAAAAAAAIA6GqsAAAAAAAAAAADqaKwCAAAAAAAAAACoo7EKAAAAAAAAAACgjsYqAAAAAAAAAACAOhqrAAAAAAAAAAAA6misAgAAAAAAAAAAqKOxCgAAAAAAAAAAoM7/BzgVb6da6LsgAAAAAElFTkSuQmCC\n"
                },
                "metadata": {}
              },
              {
                "output_type": "display_data",
                "data": {
                  "text/plain": "<Figure size 1400x1500 with 1 Axes>",
                  "image/png": "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\n"
                },
                "metadata": {}
              }
            ]
          }
        },
        "0738a7cee21d4a1c889d08ee263e5cff": {
          "model_module": "@jupyter-widgets/base",
          "model_name": "LayoutModel",
          "model_module_version": "1.2.0",
          "state": {
            "_model_module": "@jupyter-widgets/base",
            "_model_module_version": "1.2.0",
            "_model_name": "LayoutModel",
            "_view_count": null,
            "_view_module": "@jupyter-widgets/base",
            "_view_module_version": "1.2.0",
            "_view_name": "LayoutView",
            "align_content": null,
            "align_items": null,
            "align_self": null,
            "border": null,
            "bottom": null,
            "display": null,
            "flex": null,
            "flex_flow": null,
            "grid_area": null,
            "grid_auto_columns": null,
            "grid_auto_flow": null,
            "grid_auto_rows": null,
            "grid_column": null,
            "grid_gap": null,
            "grid_row": null,
            "grid_template_areas": null,
            "grid_template_columns": null,
            "grid_template_rows": null,
            "height": null,
            "justify_content": null,
            "justify_items": null,
            "left": null,
            "margin": null,
            "max_height": null,
            "max_width": null,
            "min_height": null,
            "min_width": null,
            "object_fit": null,
            "object_position": null,
            "order": null,
            "overflow": null,
            "overflow_x": null,
            "overflow_y": null,
            "padding": null,
            "right": null,
            "top": null,
            "visibility": null,
            "width": null
          }
        }
      }
    }
  },
  "cells": [
    {
      "cell_type": "markdown",
      "metadata": {
        "id": "view-in-github",
        "colab_type": "text"
      },
      "source": [
        "<a href=\"https://colab.research.google.com/github/SiddhiMahajan594/Electron-Cipher/blob/main/Electron_Cipher.ipynb\" target=\"_parent\"><img src=\"https://colab.research.google.com/assets/colab-badge.svg\" alt=\"Open In Colab\"/></a>"
      ]
    },
    {
      "cell_type": "code",
      "execution_count": 69,
      "metadata": {
        "colab": {
          "base_uri": "https://localhost:8080/"
        },
        "id": "EMWQOf0rB238",
        "outputId": "f6168cde-7352-4e18-8e31-cf3e38a5317a"
      },
      "outputs": [
        {
          "output_type": "stream",
          "name": "stdout",
          "text": [
            "Requirement already satisfied: pycryptodome in /usr/local/lib/python3.11/dist-packages (3.23.0)\n",
            "Requirement already satisfied: ipywidgets in /usr/local/lib/python3.11/dist-packages (7.7.1)\n",
            "Requirement already satisfied: ipykernel>=4.5.1 in /usr/local/lib/python3.11/dist-packages (from ipywidgets) (6.17.1)\n",
            "Requirement already satisfied: ipython-genutils~=0.2.0 in /usr/local/lib/python3.11/dist-packages (from ipywidgets) (0.2.0)\n",
            "Requirement already satisfied: traitlets>=4.3.1 in /usr/local/lib/python3.11/dist-packages (from ipywidgets) (5.7.1)\n",
            "Requirement already satisfied: widgetsnbextension~=3.6.0 in /usr/local/lib/python3.11/dist-packages (from ipywidgets) (3.6.10)\n",
            "Requirement already satisfied: ipython>=4.0.0 in /usr/local/lib/python3.11/dist-packages (from ipywidgets) (7.34.0)\n",
            "Requirement already satisfied: jupyterlab-widgets>=1.0.0 in /usr/local/lib/python3.11/dist-packages (from ipywidgets) (3.0.15)\n",
            "Requirement already satisfied: debugpy>=1.0 in /usr/local/lib/python3.11/dist-packages (from ipykernel>=4.5.1->ipywidgets) (1.8.0)\n",
            "Requirement already satisfied: jupyter-client>=6.1.12 in /usr/local/lib/python3.11/dist-packages (from ipykernel>=4.5.1->ipywidgets) (6.1.12)\n",
            "Requirement already satisfied: matplotlib-inline>=0.1 in /usr/local/lib/python3.11/dist-packages (from ipykernel>=4.5.1->ipywidgets) (0.1.7)\n",
            "Requirement already satisfied: nest-asyncio in /usr/local/lib/python3.11/dist-packages (from ipykernel>=4.5.1->ipywidgets) (1.6.0)\n",
            "Requirement already satisfied: packaging in /usr/local/lib/python3.11/dist-packages (from ipykernel>=4.5.1->ipywidgets) (24.2)\n",
            "Requirement already satisfied: psutil in /usr/local/lib/python3.11/dist-packages (from ipykernel>=4.5.1->ipywidgets) (5.9.5)\n",
            "Requirement already satisfied: pyzmq>=17 in /usr/local/lib/python3.11/dist-packages (from ipykernel>=4.5.1->ipywidgets) (24.0.1)\n",
            "Requirement already satisfied: tornado>=6.1 in /usr/local/lib/python3.11/dist-packages (from ipykernel>=4.5.1->ipywidgets) (6.4.2)\n",
            "Requirement already satisfied: setuptools>=18.5 in /usr/local/lib/python3.11/dist-packages (from ipython>=4.0.0->ipywidgets) (75.2.0)\n",
            "Requirement already satisfied: jedi>=0.16 in /usr/local/lib/python3.11/dist-packages (from ipython>=4.0.0->ipywidgets) (0.19.2)\n",
            "Requirement already satisfied: decorator in /usr/local/lib/python3.11/dist-packages (from ipython>=4.0.0->ipywidgets) (4.4.2)\n",
            "Requirement already satisfied: pickleshare in /usr/local/lib/python3.11/dist-packages (from ipython>=4.0.0->ipywidgets) (0.7.5)\n",
            "Requirement already satisfied: prompt-toolkit!=3.0.0,!=3.0.1,<3.1.0,>=2.0.0 in /usr/local/lib/python3.11/dist-packages (from ipython>=4.0.0->ipywidgets) (3.0.51)\n",
            "Requirement already satisfied: pygments in /usr/local/lib/python3.11/dist-packages (from ipython>=4.0.0->ipywidgets) (2.19.2)\n",
            "Requirement already satisfied: backcall in /usr/local/lib/python3.11/dist-packages (from ipython>=4.0.0->ipywidgets) (0.2.0)\n",
            "Requirement already satisfied: pexpect>4.3 in /usr/local/lib/python3.11/dist-packages (from ipython>=4.0.0->ipywidgets) (4.9.0)\n",
            "Requirement already satisfied: notebook>=4.4.1 in /usr/local/lib/python3.11/dist-packages (from widgetsnbextension~=3.6.0->ipywidgets) (6.5.7)\n",
            "Requirement already satisfied: parso<0.9.0,>=0.8.4 in /usr/local/lib/python3.11/dist-packages (from jedi>=0.16->ipython>=4.0.0->ipywidgets) (0.8.4)\n",
            "Requirement already satisfied: jupyter-core>=4.6.0 in /usr/local/lib/python3.11/dist-packages (from jupyter-client>=6.1.12->ipykernel>=4.5.1->ipywidgets) (5.8.1)\n",
            "Requirement already satisfied: python-dateutil>=2.1 in /usr/local/lib/python3.11/dist-packages (from jupyter-client>=6.1.12->ipykernel>=4.5.1->ipywidgets) (2.9.0.post0)\n",
            "Requirement already satisfied: jinja2 in /usr/local/lib/python3.11/dist-packages (from notebook>=4.4.1->widgetsnbextension~=3.6.0->ipywidgets) (3.1.6)\n",
            "Requirement already satisfied: argon2-cffi in /usr/local/lib/python3.11/dist-packages (from notebook>=4.4.1->widgetsnbextension~=3.6.0->ipywidgets) (25.1.0)\n",
            "Requirement already satisfied: nbformat in /usr/local/lib/python3.11/dist-packages (from notebook>=4.4.1->widgetsnbextension~=3.6.0->ipywidgets) (5.10.4)\n",
            "Requirement already satisfied: nbconvert>=5 in /usr/local/lib/python3.11/dist-packages (from notebook>=4.4.1->widgetsnbextension~=3.6.0->ipywidgets) (7.16.6)\n",
            "Requirement already satisfied: Send2Trash>=1.8.0 in /usr/local/lib/python3.11/dist-packages (from notebook>=4.4.1->widgetsnbextension~=3.6.0->ipywidgets) (1.8.3)\n",
            "Requirement already satisfied: terminado>=0.8.3 in /usr/local/lib/python3.11/dist-packages (from notebook>=4.4.1->widgetsnbextension~=3.6.0->ipywidgets) (0.18.1)\n",
            "Requirement already satisfied: prometheus-client in /usr/local/lib/python3.11/dist-packages (from notebook>=4.4.1->widgetsnbextension~=3.6.0->ipywidgets) (0.22.1)\n",
            "Requirement already satisfied: nbclassic>=0.4.7 in /usr/local/lib/python3.11/dist-packages (from notebook>=4.4.1->widgetsnbextension~=3.6.0->ipywidgets) (1.3.1)\n",
            "Requirement already satisfied: ptyprocess>=0.5 in /usr/local/lib/python3.11/dist-packages (from pexpect>4.3->ipython>=4.0.0->ipywidgets) (0.7.0)\n",
            "Requirement already satisfied: wcwidth in /usr/local/lib/python3.11/dist-packages (from prompt-toolkit!=3.0.0,!=3.0.1,<3.1.0,>=2.0.0->ipython>=4.0.0->ipywidgets) (0.2.13)\n",
            "Requirement already satisfied: platformdirs>=2.5 in /usr/local/lib/python3.11/dist-packages (from jupyter-core>=4.6.0->jupyter-client>=6.1.12->ipykernel>=4.5.1->ipywidgets) (4.3.8)\n",
            "Requirement already satisfied: notebook-shim>=0.2.3 in /usr/local/lib/python3.11/dist-packages (from nbclassic>=0.4.7->notebook>=4.4.1->widgetsnbextension~=3.6.0->ipywidgets) (0.2.4)\n",
            "Requirement already satisfied: beautifulsoup4 in /usr/local/lib/python3.11/dist-packages (from nbconvert>=5->notebook>=4.4.1->widgetsnbextension~=3.6.0->ipywidgets) (4.13.4)\n",
            "Requirement already satisfied: bleach!=5.0.0 in /usr/local/lib/python3.11/dist-packages (from bleach[css]!=5.0.0->nbconvert>=5->notebook>=4.4.1->widgetsnbextension~=3.6.0->ipywidgets) (6.2.0)\n",
            "Requirement already satisfied: defusedxml in /usr/local/lib/python3.11/dist-packages (from nbconvert>=5->notebook>=4.4.1->widgetsnbextension~=3.6.0->ipywidgets) (0.7.1)\n",
            "Requirement already satisfied: jupyterlab-pygments in /usr/local/lib/python3.11/dist-packages (from nbconvert>=5->notebook>=4.4.1->widgetsnbextension~=3.6.0->ipywidgets) (0.3.0)\n",
            "Requirement already satisfied: markupsafe>=2.0 in /usr/local/lib/python3.11/dist-packages (from nbconvert>=5->notebook>=4.4.1->widgetsnbextension~=3.6.0->ipywidgets) (3.0.2)\n",
            "Requirement already satisfied: mistune<4,>=2.0.3 in /usr/local/lib/python3.11/dist-packages (from nbconvert>=5->notebook>=4.4.1->widgetsnbextension~=3.6.0->ipywidgets) (3.1.3)\n",
            "Requirement already satisfied: nbclient>=0.5.0 in /usr/local/lib/python3.11/dist-packages (from nbconvert>=5->notebook>=4.4.1->widgetsnbextension~=3.6.0->ipywidgets) (0.10.2)\n",
            "Requirement already satisfied: pandocfilters>=1.4.1 in /usr/local/lib/python3.11/dist-packages (from nbconvert>=5->notebook>=4.4.1->widgetsnbextension~=3.6.0->ipywidgets) (1.5.1)\n",
            "Requirement already satisfied: fastjsonschema>=2.15 in /usr/local/lib/python3.11/dist-packages (from nbformat->notebook>=4.4.1->widgetsnbextension~=3.6.0->ipywidgets) (2.21.1)\n",
            "Requirement already satisfied: jsonschema>=2.6 in /usr/local/lib/python3.11/dist-packages (from nbformat->notebook>=4.4.1->widgetsnbextension~=3.6.0->ipywidgets) (4.24.0)\n",
            "Requirement already satisfied: six>=1.5 in /usr/local/lib/python3.11/dist-packages (from python-dateutil>=2.1->jupyter-client>=6.1.12->ipykernel>=4.5.1->ipywidgets) (1.17.0)\n",
            "Requirement already satisfied: argon2-cffi-bindings in /usr/local/lib/python3.11/dist-packages (from argon2-cffi->notebook>=4.4.1->widgetsnbextension~=3.6.0->ipywidgets) (21.2.0)\n",
            "Requirement already satisfied: webencodings in /usr/local/lib/python3.11/dist-packages (from bleach!=5.0.0->bleach[css]!=5.0.0->nbconvert>=5->notebook>=4.4.1->widgetsnbextension~=3.6.0->ipywidgets) (0.5.1)\n",
            "Requirement already satisfied: tinycss2<1.5,>=1.1.0 in /usr/local/lib/python3.11/dist-packages (from bleach[css]!=5.0.0->nbconvert>=5->notebook>=4.4.1->widgetsnbextension~=3.6.0->ipywidgets) (1.4.0)\n",
            "Requirement already satisfied: attrs>=22.2.0 in /usr/local/lib/python3.11/dist-packages (from jsonschema>=2.6->nbformat->notebook>=4.4.1->widgetsnbextension~=3.6.0->ipywidgets) (25.3.0)\n",
            "Requirement already satisfied: jsonschema-specifications>=2023.03.6 in /usr/local/lib/python3.11/dist-packages (from jsonschema>=2.6->nbformat->notebook>=4.4.1->widgetsnbextension~=3.6.0->ipywidgets) (2025.4.1)\n",
            "Requirement already satisfied: referencing>=0.28.4 in /usr/local/lib/python3.11/dist-packages (from jsonschema>=2.6->nbformat->notebook>=4.4.1->widgetsnbextension~=3.6.0->ipywidgets) (0.36.2)\n",
            "Requirement already satisfied: rpds-py>=0.7.1 in /usr/local/lib/python3.11/dist-packages (from jsonschema>=2.6->nbformat->notebook>=4.4.1->widgetsnbextension~=3.6.0->ipywidgets) (0.26.0)\n",
            "Requirement already satisfied: jupyter-server<3,>=1.8 in /usr/local/lib/python3.11/dist-packages (from notebook-shim>=0.2.3->nbclassic>=0.4.7->notebook>=4.4.1->widgetsnbextension~=3.6.0->ipywidgets) (1.16.0)\n",
            "Requirement already satisfied: cffi>=1.0.1 in /usr/local/lib/python3.11/dist-packages (from argon2-cffi-bindings->argon2-cffi->notebook>=4.4.1->widgetsnbextension~=3.6.0->ipywidgets) (1.17.1)\n",
            "Requirement already satisfied: soupsieve>1.2 in /usr/local/lib/python3.11/dist-packages (from beautifulsoup4->nbconvert>=5->notebook>=4.4.1->widgetsnbextension~=3.6.0->ipywidgets) (2.7)\n",
            "Requirement already satisfied: typing-extensions>=4.0.0 in /usr/local/lib/python3.11/dist-packages (from beautifulsoup4->nbconvert>=5->notebook>=4.4.1->widgetsnbextension~=3.6.0->ipywidgets) (4.14.1)\n",
            "Requirement already satisfied: pycparser in /usr/local/lib/python3.11/dist-packages (from cffi>=1.0.1->argon2-cffi-bindings->argon2-cffi->notebook>=4.4.1->widgetsnbextension~=3.6.0->ipywidgets) (2.22)\n",
            "Requirement already satisfied: anyio>=3.1.0 in /usr/local/lib/python3.11/dist-packages (from jupyter-server<3,>=1.8->notebook-shim>=0.2.3->nbclassic>=0.4.7->notebook>=4.4.1->widgetsnbextension~=3.6.0->ipywidgets) (4.9.0)\n",
            "Requirement already satisfied: websocket-client in /usr/local/lib/python3.11/dist-packages (from jupyter-server<3,>=1.8->notebook-shim>=0.2.3->nbclassic>=0.4.7->notebook>=4.4.1->widgetsnbextension~=3.6.0->ipywidgets) (1.8.0)\n",
            "Requirement already satisfied: idna>=2.8 in /usr/local/lib/python3.11/dist-packages (from anyio>=3.1.0->jupyter-server<3,>=1.8->notebook-shim>=0.2.3->nbclassic>=0.4.7->notebook>=4.4.1->widgetsnbextension~=3.6.0->ipywidgets) (3.10)\n",
            "Requirement already satisfied: sniffio>=1.1 in /usr/local/lib/python3.11/dist-packages (from anyio>=3.1.0->jupyter-server<3,>=1.8->notebook-shim>=0.2.3->nbclassic>=0.4.7->notebook>=4.4.1->widgetsnbextension~=3.6.0->ipywidgets) (1.3.1)\n"
          ]
        }
      ],
      "source": [
        "!pip install pycryptodome ipywidgets"
      ]
    },
    {
      "cell_type": "code",
      "source": [
        "from Crypto.Cipher import AES\n",
        "from Crypto.Util.Padding import pad, unpad\n",
        "from Crypto.Random import get_random_bytes\n",
        "from Crypto.Protocol.KDF import PBKDF2\n",
        "from Crypto.Hash import SHA256\n",
        "import base64\n",
        "import matplotlib.pyplot as plt\n",
        "from IPython.display import display\n",
        "import ipywidgets as widgets\n",
        "import numpy as np\n",
        "from random import randint"
      ],
      "metadata": {
        "id": "i5a02X79B-TU"
      },
      "execution_count": 70,
      "outputs": []
    },
    {
      "cell_type": "markdown",
      "source": [
        "Orbital Config"
      ],
      "metadata": {
        "id": "N_NI4iE9C83-"
      }
    },
    {
      "cell_type": "code",
      "source": [
        "orbital_order = [('s', 2), ('p', 6), ('d', 10), ('f', 14)]"
      ],
      "metadata": {
        "id": "H1qLUPWRCEW9"
      },
      "execution_count": 71,
      "outputs": []
    },
    {
      "cell_type": "markdown",
      "source": [
        "Key Derivation"
      ],
      "metadata": {
        "id": "b5FLYF00DBeg"
      }
    },
    {
      "cell_type": "code",
      "source": [
        "def derive_key_from_password(password, salt=None):\n",
        "    if salt is None:\n",
        "        salt = get_random_bytes(16)\n",
        "    password_bytes = password.encode() if isinstance(password, str) else password\n",
        "    key = PBKDF2(password_bytes, salt, dkLen=32, count=100000)\n",
        "    return key, salt\n"
      ],
      "metadata": {
        "id": "u2J4eqEbCG_G"
      },
      "execution_count": 72,
      "outputs": []
    },
    {
      "cell_type": "markdown",
      "source": [
        "Generate Dynamic S-boxes"
      ],
      "metadata": {
        "id": "NMcSuq3aDFLu"
      }
    },
    {
      "cell_type": "code",
      "source": [
        "import numpy as np\n",
        "import random\n",
        "import hashlib\n",
        "\n",
        "# -- Fitness placeholder --\n",
        "def calculate_non_linearity(sbox):\n",
        "    return np.random.randint(100, 300)\n",
        "\n",
        "def calculate_differential_uniformity(sbox):\n",
        "    return np.random.randint(2, 16)\n",
        "\n",
        "def fitness(sbox):\n",
        "    nl = calculate_non_linearity(sbox)\n",
        "    du = calculate_differential_uniformity(sbox)\n",
        "    return nl - 5 * du\n",
        "\n",
        "# -- Deterministic GA S-box generator --\n",
        "def generate_dynamic_sboxes_using_ga(password):\n",
        "    # Hash password -> int seed\n",
        "    seed = int(hashlib.sha256(password.encode()).hexdigest(), 16) % (2**32)\n",
        "    random.seed(seed)\n",
        "    np.random.seed(seed)\n",
        "\n",
        "    def generate_sbox_ga(length, generations=50, population_size=30):\n",
        "        population = [list(np.random.permutation(length)) for _ in range(population_size)]\n",
        "        for generation in range(generations):\n",
        "            population.sort(key=fitness, reverse=True)\n",
        "            new_population = population[:5]\n",
        "            while len(new_population) < population_size:\n",
        "                p1, p2 = random.sample(population[:15], 2)\n",
        "                if length > 2:\n",
        "                    cut = random.randint(1, length - 2)\n",
        "                else:\n",
        "                    cut = 1\n",
        "                child = p1[:cut] + [x for x in p2 if x not in p1[:cut]]\n",
        "                if random.randint(0, 10) < 3:\n",
        "                    i, j = random.sample(range(length), 2)\n",
        "                    child[i], child[j] = child[j], child[i]\n",
        "                new_population.append(child)\n",
        "            population = new_population\n",
        "        best_sbox = population[0]\n",
        "        return best_sbox\n",
        "\n",
        "    dynamic_sboxes = {}\n",
        "    orbital_lengths = {'s': 2, 'p': 6, 'd': 10, 'f': 14}\n",
        "    for orbital, length in orbital_lengths.items():\n",
        "        sbox = generate_sbox_ga(length)\n",
        "        dynamic_sboxes[orbital] = sbox\n",
        "    return dynamic_sboxes\n",
        "\n",
        "\n",
        "def generate_inverse_sboxes(sboxes):\n",
        "    inv_sboxes = {}\n",
        "    for orbital, sbox in sboxes.items():\n",
        "        inv = [0] * len(sbox)\n",
        "        for i, val in enumerate(sbox):\n",
        "            inv[val] = i\n",
        "        inv_sboxes[orbital] = inv\n",
        "    return inv_sboxes"
      ],
      "metadata": {
        "id": "Op4uba7xCI0D"
      },
      "execution_count": 73,
      "outputs": []
    },
    {
      "cell_type": "markdown",
      "source": [
        "Orbital Permutation"
      ],
      "metadata": {
        "id": "eN9Cl86iDHLU"
      }
    },
    {
      "cell_type": "code",
      "source": [
        "def orbital_permute(binary, sboxes):\n",
        "    result = ''\n",
        "    idx = 0\n",
        "    order_idx = 0\n",
        "    mappings = []\n",
        "\n",
        "    while idx < len(binary):\n",
        "        orbital, bits = orbital_order[order_idx % len(orbital_order)]\n",
        "        sbox = sboxes[orbital]\n",
        "        segment = binary[idx:idx + bits]\n",
        "        if len(segment) < bits:\n",
        "            segment = segment.ljust(bits, '0')\n",
        "        permuted = ''.join(segment[sbox[i]] if i < len(segment) else '0' for i in range(bits))\n",
        "        result += permuted\n",
        "        mappings.append((orbital, segment, permuted))\n",
        "        idx += bits\n",
        "        order_idx += 1\n",
        "\n",
        "    return result, mappings\n"
      ],
      "metadata": {
        "id": "UVm94PbaCLEC"
      },
      "execution_count": 74,
      "outputs": []
    },
    {
      "cell_type": "markdown",
      "source": [
        "Orbital Unpermutation"
      ],
      "metadata": {
        "id": "A3q3WfvcDJGr"
      }
    },
    {
      "cell_type": "code",
      "source": [
        "def orbital_unpermute(binary, inv_sboxes):\n",
        "    result = ''\n",
        "    idx = 0\n",
        "    order_idx = 0\n",
        "\n",
        "    while idx < len(binary):\n",
        "        orbital, bits = orbital_order[order_idx % len(orbital_order)]\n",
        "        inv_sbox = inv_sboxes[orbital]\n",
        "        segment = binary[idx:idx + bits]\n",
        "        if len(segment) < bits:\n",
        "            segment = segment.ljust(bits, '0')\n",
        "        unpermuted = ['0'] * bits\n",
        "        for i in range(bits):\n",
        "            src_idx = inv_sbox[i]\n",
        "            if src_idx < len(segment):\n",
        "                unpermuted[i] = segment[src_idx]\n",
        "        result += ''.join(unpermuted)\n",
        "        idx += bits\n",
        "        order_idx += 1\n",
        "\n",
        "    return result\n"
      ],
      "metadata": {
        "id": "G5f9AO9OCOZB"
      },
      "execution_count": 75,
      "outputs": []
    },
    {
      "cell_type": "markdown",
      "source": [
        "Binary Conversion Helpers"
      ],
      "metadata": {
        "id": "WL_I1akHDLTr"
      }
    },
    {
      "cell_type": "code",
      "source": [
        "def binary_to_bytes(binary):\n",
        "    padding = (8 - len(binary) % 8) % 8\n",
        "    padded = binary + '0' * padding\n",
        "    byte_array = bytearray()\n",
        "    for i in range(0, len(padded), 8):\n",
        "        byte = padded[i:i+8]\n",
        "        byte_array.append(int(byte, 2))\n",
        "    return bytes(byte_array)\n",
        "\n",
        "def bytes_to_binary(byte_data, length=None):\n",
        "    binary = ''.join(format(b, '08b') for b in byte_data)\n",
        "    if length is not None:\n",
        "        binary = binary[:length]\n",
        "    return binary\n"
      ],
      "metadata": {
        "id": "Ut-TM_NDCQWs"
      },
      "execution_count": 76,
      "outputs": []
    },
    {
      "cell_type": "markdown",
      "source": [
        "Feistel Function"
      ],
      "metadata": {
        "id": "cA7Aap-ymRq4"
      }
    },
    {
      "cell_type": "code",
      "source": [
        "import random\n",
        "\n",
        "def feistel_round(left, right, subkey, orbital):\n",
        "    # Generate a non-linear function based on orbital\n",
        "    def f_function(r, k):\n",
        "        r_int = int(r, 2)\n",
        "        k_int = int(k, 2)\n",
        "        xor_result = r_int ^ k_int\n",
        "        if orbital == 's':\n",
        "            return format((xor_result ^ (xor_result << 1)) & 0xFF, '08b')\n",
        "        elif orbital == 'p':\n",
        "            return format((xor_result ^ (xor_result >> 1)) & 0xFF, '08b')\n",
        "        elif orbital == 'd':\n",
        "            return format(((xor_result << 2) ^ (xor_result >> 2)) & 0xFF, '08b')\n",
        "        elif orbital == 'f':\n",
        "            return format(((xor_result & 0xAA) | (~xor_result & 0x55)) & 0xFF, '08b')\n",
        "        return format(xor_result, '08b')\n",
        "\n",
        "    f_out = f_function(right, subkey)\n",
        "    new_right = format(int(left, 2) ^ int(f_out, 2), '08b')\n",
        "    return right, new_right\n",
        "\n",
        "def feistel_encrypt_block(block, rounds=4, key=\"10101010\", orbital='s'):\n",
        "    half = len(block) // 2\n",
        "    left, right = block[:half], block[half:]\n",
        "    for i in range(rounds):\n",
        "        subkey = format((int(key, 2) + i) % 256, '08b')\n",
        "        left, right = feistel_round(left, right, subkey, orbital)\n",
        "    return left + right\n",
        "\n",
        "def feistel_decrypt_block(block, rounds=4, key=\"10101010\", orbital='s'):\n",
        "    half = len(block) // 2\n",
        "    left, right = block[:half], block[half:]\n",
        "    round_keys = [format((int(key, 2) + i) % 256, '08b') for i in range(rounds)][::-1]\n",
        "    for subkey in round_keys:\n",
        "        right, left = feistel_round(right, left, subkey, orbital)\n",
        "    return left + right\n",
        "\n",
        "def orbital_feistel_mix(binary, orbital='s', rounds=4):\n",
        "    padded_binary = binary\n",
        "    if len(binary) % 16 != 0:\n",
        "        padded_binary = binary + '0' * (16 - len(binary) % 16)\n",
        "\n",
        "    mixed = ''\n",
        "    for i in range(0, len(padded_binary), 16):\n",
        "        block = padded_binary[i:i+16]\n",
        "        mixed += feistel_encrypt_block(block, rounds=rounds, orbital=orbital)\n",
        "\n",
        "    return mixed\n",
        "\n",
        "def orbital_feistel_unmix(binary, orbital='s', rounds=4):\n",
        "    unmixed = ''\n",
        "    for i in range(0, len(binary), 16):\n",
        "        block = binary[i:i+16]\n",
        "        unmixed += feistel_decrypt_block(block, rounds=rounds, orbital=orbital)\n",
        "\n",
        "    return unmixed\n"
      ],
      "metadata": {
        "id": "8Ds5JRifmQkR"
      },
      "execution_count": 77,
      "outputs": []
    },
    {
      "cell_type": "markdown",
      "source": [
        "Encryption & Decryption"
      ],
      "metadata": {
        "id": "LRbj1BffDPEz"
      }
    },
    {
      "cell_type": "code",
      "source": [
        "def encrypt_with_orbitals(plaintext, password):\n",
        "    key, salt = derive_key_from_password(password)\n",
        "    iv = get_random_bytes(16)\n",
        "    plaintext_bytes = plaintext.encode()\n",
        "    binary = ''.join(format(byte, '08b') for byte in plaintext_bytes)\n",
        "    print(f\"Plaintext bits:  {binary}\")\n",
        "\n",
        "    # Apply orbital Feistel mixing\n",
        "    feistel_mixed_binary = orbital_feistel_mix(binary, orbital='p', rounds=4)\n",
        "    print(f\"Feistel Mixed:   {feistel_mixed_binary}\")\n",
        "\n",
        "    # Permute using orbital S-boxes\n",
        "    sboxes = generate_dynamic_sboxes_using_ga(password)\n",
        "    permuted_binary, mappings = orbital_permute(feistel_mixed_binary, sboxes)\n",
        "    print(f\"Permuted bits:   {permuted_binary}\")\n",
        "\n",
        "    byte_data = binary_to_bytes(permuted_binary)\n",
        "    cipher = AES.new(key, AES.MODE_CBC, iv)\n",
        "    encrypted = cipher.encrypt(pad(byte_data, AES.block_size))\n",
        "    length_bytes = len(binary).to_bytes(4, byteorder='big')\n",
        "    result = salt + iv + length_bytes + encrypted\n",
        "    return base64.b64encode(result).decode(), mappings, binary, permuted_binary\n",
        "\n",
        "def decrypt_with_orbitals(ciphertext, password):\n",
        "    try:\n",
        "        raw = base64.b64decode(ciphertext)\n",
        "        salt = raw[:16]\n",
        "        iv = raw[16:32]\n",
        "        original_length = int.from_bytes(raw[32:36], byteorder='big')\n",
        "        encrypted = raw[36:]\n",
        "    except Exception as e:\n",
        "        print(f\"Error parsing ciphertext: {e}\")\n",
        "        return \"\"\n",
        "    key, _ = derive_key_from_password(password, salt)\n",
        "    try:\n",
        "        cipher = AES.new(key, AES.MODE_CBC, iv)\n",
        "        decrypted_padded = cipher.decrypt(encrypted)\n",
        "        decrypted = unpad(decrypted_padded, AES.block_size)\n",
        "    except Exception as e:\n",
        "        print(f\"Decryption error: {e}\")\n",
        "        return \"\"\n",
        "    decrypted_binary = bytes_to_binary(decrypted)\n",
        "    print(f\"Decrypted permuted bits: {decrypted_binary}\")\n",
        "\n",
        "    sboxes = generate_dynamic_sboxes_using_ga(password)\n",
        "    inv_sboxes = generate_inverse_sboxes(sboxes)\n",
        "    original_permuted_binary = orbital_unpermute(decrypted_binary, inv_sboxes)\n",
        "\n",
        "    # Reverse Feistel mixing\n",
        "    original_binary = orbital_feistel_unmix(original_permuted_binary, orbital='p', rounds=4)\n",
        "    original_binary = original_binary[:original_length]\n",
        "    print(f\"Recovered bits:          {original_binary}\")\n",
        "\n",
        "    try:\n",
        "        padded_binary = original_binary\n",
        "        if len(padded_binary) % 8 != 0:\n",
        "            padded_binary = padded_binary + '0' * (8 - len(padded_binary) % 8)\n",
        "        bytes_array = bytearray()\n",
        "        for i in range(0, len(padded_binary), 8):\n",
        "            if i + 8 <= len(padded_binary):\n",
        "                byte_val = int(padded_binary[i:i+8], 2)\n",
        "                bytes_array.append(byte_val)\n",
        "        return bytes(bytes_array).decode('utf-8', errors='replace')\n",
        "    except Exception as e:\n",
        "        print(f\"Error decoding plaintext: {e}\")\n",
        "        return \"\"\n"
      ],
      "metadata": {
        "id": "dPNYc4WhmETi"
      },
      "execution_count": 78,
      "outputs": []
    },
    {
      "cell_type": "markdown",
      "source": [
        "Visualization Functions"
      ],
      "metadata": {
        "id": "bXvjFGtPDRnZ"
      }
    },
    {
      "cell_type": "code",
      "source": [
        "def visualize_orbital_permutation(mappings):\n",
        "    fig, ax = plt.subplots(figsize=(14, len(mappings)))\n",
        "    ax.set_xlim(0, max(len(before) for _, before, _ in mappings) + 1)\n",
        "    ax.set_ylim(-1, len(mappings) * 2.5)\n",
        "    ax.axis('off')\n",
        "    vertical_gap = 1.4\n",
        "    after_offset = 0.4\n",
        "    for i, (orbital, before, after) in enumerate(mappings):\n",
        "        y_base = len(mappings) * 2.5 - i * 2.5 - 1\n",
        "        ax.text(-0.5, y_base + vertical_gap / 2, f\"{orbital}\", fontsize=10, weight='bold', va='center')\n",
        "        for j in range(len(before)):\n",
        "            bx = j\n",
        "            before_y = y_base + vertical_gap / 2\n",
        "            arrow_start_y = before_y - 0.1\n",
        "            arrow_length = -vertical_gap + 0.2\n",
        "            after_y = arrow_start_y + arrow_length - after_offset\n",
        "            ax.text(bx, before_y, before[j], ha='center', fontsize=9)\n",
        "            ax.arrow(bx, arrow_start_y, 0, arrow_length, head_width=0.1, head_length=0.1, fc='gray', ec='gray')\n",
        "            ax.text(bx, after_y, after[j], ha='center', fontsize=9, color='blue')\n",
        "    plt.title(\"Orbital-Based Bit Permutation (Top: Before, Bottom: After)\", fontsize=14)\n",
        "    plt.tight_layout()\n",
        "    plt.show()\n",
        "\n",
        "def visualize_binary(binary, title='Bit Structure'):\n",
        "    fig, ax = plt.subplots(figsize=(min(0.5 * len(binary), 24), 2))\n",
        "    ax.set_xlim(0, len(binary))\n",
        "    ax.set_ylim(0, 1)\n",
        "    ax.axis('off')\n",
        "    for i, bit in enumerate(binary):\n",
        "        color = 'blue' if bit == '1' else 'lightgray'\n",
        "        ax.scatter(i, 0.5, c=color, s=300, edgecolors='black', zorder=2)\n",
        "        ax.text(i, 0.5, bit, ha='center', va='center', fontsize=8, zorder=3)\n",
        "    plt.title(title, fontsize=16)\n",
        "    plt.tight_layout()\n",
        "    plt.show()\n"
      ],
      "metadata": {
        "id": "kJ5Kn5bYCU1j"
      },
      "execution_count": 79,
      "outputs": []
    },
    {
      "cell_type": "markdown",
      "source": [
        "UI + Logic (Widgets)"
      ],
      "metadata": {
        "id": "tjKjohWmDUun"
      }
    },
    {
      "cell_type": "code",
      "source": [
        "text_input = widgets.Text(\n",
        "    value='Cyber Security',\n",
        "    placeholder='Enter text to encrypt',\n",
        "    description='Plaintext:',\n",
        "    layout=widgets.Layout(width='400px')\n",
        ")\n",
        "\n",
        "password_input = widgets.Password(\n",
        "    value='hello',\n",
        "    description='Password:',\n",
        "    layout=widgets.Layout(width='400px')\n",
        ")\n",
        "\n",
        "encrypt_button = widgets.Button(description=\"Encrypt & Decrypt\")\n",
        "output = widgets.Output()\n",
        "\n",
        "def run_encryption(b):\n",
        "    output.clear_output()\n",
        "    with output:\n",
        "        plaintext = text_input.value\n",
        "        password = password_input.value\n",
        "        if not plaintext or not password:\n",
        "            print(\"Please enter both plaintext and password.\")\n",
        "            return\n",
        "\n",
        "        print(\"\\n--- Encryption ---\")\n",
        "        ciphertext, mappings, orig_bits, perm_bits = encrypt_with_orbitals(plaintext, password)\n",
        "\n",
        "        # 🔍 Show dynamic S-box and inverse S-box table\n",
        "        key, _ = derive_key_from_password(password)\n",
        "        sboxes = generate_dynamic_sboxes_using_ga(password)\n",
        "        inv_sboxes = generate_inverse_sboxes(sboxes)\n",
        "\n",
        "        print(\"\\n=== Dynamic S-Box Table ===\")\n",
        "        for orbital in ['s', 'p', 'd', 'f']:\n",
        "            print(f\"{orbital.upper()} S-box:     {sboxes[orbital]}\")\n",
        "            print(f\"{orbital.upper()} Inv S-box: {inv_sboxes[orbital]}\")\n",
        "\n",
        "        print(\"\\nCiphertext (Base64):\")\n",
        "        print(ciphertext)\n",
        "\n",
        "        print(\"\\n--- Decryption ---\")\n",
        "        recovered = decrypt_with_orbitals(ciphertext, password)\n",
        "        print(\"\\nRecovered Plaintext:\")\n",
        "        print(recovered)\n",
        "\n",
        "        print(\"\\n--- Bit Visualizations ---\")\n",
        "        visualize_binary(orig_bits, 'Original Binary Bits')\n",
        "        visualize_binary(perm_bits, 'Permuted Bits (After Orbital S-box)')\n",
        "        visualize_orbital_permutation(mappings)\n",
        "\n",
        "encrypt_button.on_click(run_encryption)\n",
        "display(text_input, password_input, encrypt_button, output)\n"
      ],
      "metadata": {
        "colab": {
          "base_uri": "https://localhost:8080/",
          "height": 1000,
          "referenced_widgets": [
            "3f8b362993df495099db558dbe8ae9ef",
            "158c49dacc8741b9b66c429e6bda950e",
            "df2a46a138684b178b95b95b5e6d3304",
            "e0f448b8b8aa4a50a6e34d629dd5fdc0",
            "d5d0034b4f4544018a5ec32427b9f8f0",
            "92c4bdbd646743eab4b9bcde245af6f3",
            "e7112c8caff148029d8e54554c763b1d",
            "8e85dfa2a473422c8f296b569d0e95d1",
            "d0a4bbccf0c34d428c59060e4c70d374",
            "35f53bf859344660bfdac2f24b32c911",
            "0738a7cee21d4a1c889d08ee263e5cff"
          ]
        },
        "id": "XDtTf_KICW52",
        "outputId": "0cf24d10-fe71-4287-c97f-86df6556942b"
      },
      "execution_count": 80,
      "outputs": [
        {
          "output_type": "display_data",
          "data": {
            "text/plain": [
              "Text(value='Cyber Security', description='Plaintext:', layout=Layout(width='400px'), placeholder='Enter text t…"
            ],
            "application/vnd.jupyter.widget-view+json": {
              "version_major": 2,
              "version_minor": 0,
              "model_id": "3f8b362993df495099db558dbe8ae9ef"
            }
          },
          "metadata": {}
        },
        {
          "output_type": "display_data",
          "data": {
            "text/plain": [
              "Password(description='Password:', layout=Layout(width='400px'))"
            ],
            "application/vnd.jupyter.widget-view+json": {
              "version_major": 2,
              "version_minor": 0,
              "model_id": "e0f448b8b8aa4a50a6e34d629dd5fdc0"
            }
          },
          "metadata": {}
        },
        {
          "output_type": "display_data",
          "data": {
            "text/plain": [
              "Button(description='Encrypt & Decrypt', style=ButtonStyle())"
            ],
            "application/vnd.jupyter.widget-view+json": {
              "version_major": 2,
              "version_minor": 0,
              "model_id": "e7112c8caff148029d8e54554c763b1d"
            }
          },
          "metadata": {}
        },
        {
          "output_type": "display_data",
          "data": {
            "text/plain": [
              "Output()"
            ],
            "application/vnd.jupyter.widget-view+json": {
              "version_major": 2,
              "version_minor": 0,
              "model_id": "35f53bf859344660bfdac2f24b32c911"
            }
          },
          "metadata": {}
        }
      ]
    }
  ]
}